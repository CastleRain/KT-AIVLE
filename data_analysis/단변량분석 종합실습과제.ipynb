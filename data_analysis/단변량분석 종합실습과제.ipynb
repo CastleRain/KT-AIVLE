{
 "cells": [
  {
   "cell_type": "markdown",
   "metadata": {
    "id": "qXUBfCONOdID"
   },
   "source": [
    "# 06과 단변량분석 종합실습과제"
   ]
  },
  {
   "cell_type": "markdown",
   "metadata": {
    "id": "XOiIUDJ1i11u"
   },
   "source": [
    "* 고객사는 카시트를 판매하는 회사 입니다.\n",
    "* 최근 매출 하락에 대해 각 부서가 파악한 원인 다음과 같습니다. \n",
    "    * 최근에 경쟁사와의 가격 경쟁력이 하락하고 있고, 광고비용이 적절하게 집행되지 않음\n",
    "    * 너무 국내 시장에 집중됨.\n",
    "    * 지역마다의 구매력을 제대로 파악하지 못하고 있음.\n",
    "\n",
    "* 그러나 이러한 분석은 데이터에 근거하고 있는지 의문이 듭니다.\n",
    "* 이 문제를 해결하고자 프로젝트 팀이 빌딩되었습니다. \n",
    "* 여러분은 이 프로젝트팀에 데이터분석전문가 이자 AI 개발자로 참여하고 있습니다.\n",
    "* 드디어 AIVLE 과정에서 배운 [파이썬 라이브러리 활용]과 [데이터 분석] 과정에서 갈고 닦은 실력을 발휘할 기회가 주어졌습니다.\n",
    "* 자, 이제 단변량 분석을 통해 비즈니스 인사이트를 도출해 봅시다!\n"
   ]
  },
  {
   "cell_type": "markdown",
   "metadata": {
    "id": "ox8HObZa3a2O"
   },
   "source": [
    "**단변량 분석 할 때 확인해야 할 점들**\n",
    "\n",
    "* 개별 변수의 분포로 부터…\n",
    "    * 값의 범위 확인\n",
    "    * 데이터가 모여 있는 구간(혹은 범주)와 희박한 구간(혹은 범주) 확인\n",
    "    * 이상치 확인 및 조치 방안\n",
    "    * 결측치 확인 및 조치 방안\n",
    "    * 가변수화, 스케일링 대상 선별\n",
    "\n",
    "* 비즈니스의 일반 사항과 특이사항을 도출\n",
    "    * 추가 분석 대상 도출.\n"
   ]
  },
  {
   "cell_type": "code",
   "execution_count": 79,
   "metadata": {
    "ExecuteTime": {
     "end_time": "2022-02-14T07:04:21.942678Z",
     "start_time": "2022-02-14T07:04:21.914791Z"
    },
    "id": "bTVrr9iaLNsy"
   },
   "outputs": [],
   "source": [
    "import pandas as pd\n",
    "import numpy as np\n",
    "\n",
    "import matplotlib.pyplot as plt\n",
    "import seaborn as sns\n",
    "\n",
    "from matplotlib import font_manager, rc\n",
    "font_path = \"C:/Windows/Fonts/HANDotum.TTF\"\n",
    "font = font_manager.FontProperties(fname=font_path).get_name()\n",
    "rc('font', family=font)"
   ]
  },
  {
   "cell_type": "markdown",
   "metadata": {
    "id": "bBRhuVPyf4td"
   },
   "source": [
    "## 카시트 판매량 데이터"
   ]
  },
  {
   "cell_type": "markdown",
   "metadata": {
    "id": "7usNzsAVsGbi"
   },
   "source": [
    "![](https://cdn.images.express.co.uk/img/dynamic/24/590x/child-car-seat-986556.jpg?r=1532946857754)"
   ]
  },
  {
   "cell_type": "markdown",
   "metadata": {
    "id": "zYKHwYHatC4k"
   },
   "source": [
    "|\t변수명\t|\t설명\t|\t구분\t|\n",
    "|\t----\t|\t----\t|\t----\t|\n",
    "|\tSales \t|\t 각 지역 판매액(단위 : 1000달러)\t|\tTarget\t|\n",
    "|\tCompPrice \t|\t 경쟁사 가격(단위 : 달러)\t|\tfeature\t|\n",
    "|\tIncome \t|\t 지역 평균 소득(단위 : 1000달러)\t|\tfeature\t|\n",
    "|\tAdvertising \t|\t 각 지역, 회사의 광고 예산(단위 : 1000달러)\t|\tfeature\t|\n",
    "|\tPopulation \t|\t 지역 인구수(단위 : 1000명)\t|\tfeature\t|\n",
    "|\tPrice \t|\t 자사 지역별 판매가격\t|\tfeature\t|\n",
    "|\tShelveLoc \t|\t 진열상태\t|\tfeature\t|\n",
    "|\tAge \t|\t 지역 인구의 평균 연령\t|\tfeature\t|\n",
    "|\tUrban \t|\t 도심 지역 여부(0,1)\t|\tfeature\t|\n",
    "|\tUS \t|\t 매장이 미국에 있는지 여부(0,1)\t|\tfeature\t|\n"
   ]
  },
  {
   "cell_type": "code",
   "execution_count": 2,
   "metadata": {
    "ExecuteTime": {
     "end_time": "2022-02-14T01:22:58.811784Z",
     "start_time": "2022-02-14T01:22:58.628776Z"
    },
    "colab": {
     "base_uri": "https://localhost:8080/",
     "height": 206
    },
    "executionInfo": {
     "elapsed": 358,
     "status": "ok",
     "timestamp": 1644139022809,
     "user": {
      "displayName": "한기영",
      "photoUrl": "https://lh3.googleusercontent.com/a/default-user=s64",
      "userId": "13049187003176135487"
     },
     "user_tz": -540
    },
    "id": "08FGuKtjpGOj",
    "outputId": "1561e259-2f66-43b0-ee27-e2391f8a4ba2"
   },
   "outputs": [
    {
     "data": {
      "text/html": [
       "<div>\n",
       "<style scoped>\n",
       "    .dataframe tbody tr th:only-of-type {\n",
       "        vertical-align: middle;\n",
       "    }\n",
       "\n",
       "    .dataframe tbody tr th {\n",
       "        vertical-align: top;\n",
       "    }\n",
       "\n",
       "    .dataframe thead th {\n",
       "        text-align: right;\n",
       "    }\n",
       "</style>\n",
       "<table border=\"1\" class=\"dataframe\">\n",
       "  <thead>\n",
       "    <tr style=\"text-align: right;\">\n",
       "      <th></th>\n",
       "      <th>Sales</th>\n",
       "      <th>CompPrice</th>\n",
       "      <th>Income</th>\n",
       "      <th>Advertising</th>\n",
       "      <th>Population</th>\n",
       "      <th>Price</th>\n",
       "      <th>ShelveLoc</th>\n",
       "      <th>Age</th>\n",
       "      <th>Urban</th>\n",
       "      <th>US</th>\n",
       "    </tr>\n",
       "  </thead>\n",
       "  <tbody>\n",
       "    <tr>\n",
       "      <th>0</th>\n",
       "      <td>9.50</td>\n",
       "      <td>138</td>\n",
       "      <td>73</td>\n",
       "      <td>11</td>\n",
       "      <td>276</td>\n",
       "      <td>120</td>\n",
       "      <td>Bad</td>\n",
       "      <td>42</td>\n",
       "      <td>Yes</td>\n",
       "      <td>Yes</td>\n",
       "    </tr>\n",
       "    <tr>\n",
       "      <th>1</th>\n",
       "      <td>11.22</td>\n",
       "      <td>111</td>\n",
       "      <td>48</td>\n",
       "      <td>16</td>\n",
       "      <td>260</td>\n",
       "      <td>83</td>\n",
       "      <td>Good</td>\n",
       "      <td>65</td>\n",
       "      <td>Yes</td>\n",
       "      <td>Yes</td>\n",
       "    </tr>\n",
       "    <tr>\n",
       "      <th>2</th>\n",
       "      <td>10.06</td>\n",
       "      <td>113</td>\n",
       "      <td>35</td>\n",
       "      <td>10</td>\n",
       "      <td>269</td>\n",
       "      <td>80</td>\n",
       "      <td>Medium</td>\n",
       "      <td>59</td>\n",
       "      <td>Yes</td>\n",
       "      <td>Yes</td>\n",
       "    </tr>\n",
       "    <tr>\n",
       "      <th>3</th>\n",
       "      <td>7.40</td>\n",
       "      <td>117</td>\n",
       "      <td>100</td>\n",
       "      <td>4</td>\n",
       "      <td>466</td>\n",
       "      <td>97</td>\n",
       "      <td>Medium</td>\n",
       "      <td>55</td>\n",
       "      <td>Yes</td>\n",
       "      <td>Yes</td>\n",
       "    </tr>\n",
       "    <tr>\n",
       "      <th>4</th>\n",
       "      <td>4.15</td>\n",
       "      <td>141</td>\n",
       "      <td>64</td>\n",
       "      <td>3</td>\n",
       "      <td>340</td>\n",
       "      <td>128</td>\n",
       "      <td>Bad</td>\n",
       "      <td>38</td>\n",
       "      <td>Yes</td>\n",
       "      <td>No</td>\n",
       "    </tr>\n",
       "  </tbody>\n",
       "</table>\n",
       "</div>"
      ],
      "text/plain": [
       "   Sales  CompPrice  Income  Advertising  Population  Price ShelveLoc  Age  \\\n",
       "0   9.50        138      73           11         276    120       Bad   42   \n",
       "1  11.22        111      48           16         260     83      Good   65   \n",
       "2  10.06        113      35           10         269     80    Medium   59   \n",
       "3   7.40        117     100            4         466     97    Medium   55   \n",
       "4   4.15        141      64            3         340    128       Bad   38   \n",
       "\n",
       "  Urban   US  \n",
       "0   Yes  Yes  \n",
       "1   Yes  Yes  \n",
       "2   Yes  Yes  \n",
       "3   Yes  Yes  \n",
       "4   Yes   No  "
      ]
     },
     "execution_count": 2,
     "metadata": {},
     "output_type": "execute_result"
    }
   ],
   "source": [
    "path = 'https://raw.githubusercontent.com/JunhoYu/Data-Analysis/main/Carseats.csv'\n",
    "data = pd.read_csv(path)\n",
    "data.drop('Education', axis = 1, inplace = True)\n",
    "data.head()"
   ]
  },
  {
   "cell_type": "markdown",
   "metadata": {
    "id": "2KcdJrQNfJCZ"
   },
   "source": [
    "### ① Sales (Target) "
   ]
  },
  {
   "cell_type": "markdown",
   "metadata": {
    "id": "RkXL80PpfJCa"
   },
   "source": [
    "1) 변수의 비즈니스 의미"
   ]
  },
  {
   "cell_type": "markdown",
   "metadata": {
    "id": "U9V5UVQ-fJCa"
   },
   "source": [
    "> 각 지역 판매액을 확인해서 안팔리는곳과 잘팔리는 곳의 차이를 판단, 잘 팔리는곳은 그대로하되 안팔리는곳에서 새로운 전략을 새워야한다."
   ]
  },
  {
   "cell_type": "markdown",
   "metadata": {
    "id": "5Lzur-vKfJCa"
   },
   "source": [
    "2) 숫자, 범주?"
   ]
  },
  {
   "cell_type": "markdown",
   "metadata": {
    "id": "SQxdZpGgfJCa"
   },
   "source": [
    "> 숫자"
   ]
  },
  {
   "cell_type": "markdown",
   "metadata": {
    "id": "KuROaOxIf3AJ"
   },
   "source": [
    "3) NaN 존재 유무 및 조치방안"
   ]
  },
  {
   "cell_type": "code",
   "execution_count": 7,
   "metadata": {
    "ExecuteTime": {
     "end_time": "2022-02-14T01:26:10.634371Z",
     "start_time": "2022-02-14T01:26:10.624205Z"
    }
   },
   "outputs": [],
   "source": [
    "sales = \"Sales\""
   ]
  },
  {
   "cell_type": "code",
   "execution_count": 8,
   "metadata": {
    "ExecuteTime": {
     "end_time": "2022-02-14T01:26:10.650367Z",
     "start_time": "2022-02-14T01:26:10.636333Z"
    },
    "id": "1iBtCnnrfJCa"
   },
   "outputs": [
    {
     "data": {
      "text/plain": [
       "0"
      ]
     },
     "execution_count": 8,
     "metadata": {},
     "output_type": "execute_result"
    }
   ],
   "source": [
    "data[sales].isna().sum()"
   ]
  },
  {
   "cell_type": "markdown",
   "metadata": {},
   "source": [
    "> Null값이 없으므로 조치할 필요가 없다."
   ]
  },
  {
   "cell_type": "markdown",
   "metadata": {
    "id": "pYG-6q3rfJCa"
   },
   "source": [
    "4) 가변수화 필요 여부"
   ]
  },
  {
   "cell_type": "markdown",
   "metadata": {
    "id": "v4bwub65fJCa"
   },
   "source": [
    "> 숫자형 변수이므로 가변수화 할 필요가 없다."
   ]
  },
  {
   "cell_type": "markdown",
   "metadata": {
    "id": "H9_8VoENfJCa"
   },
   "source": [
    "5) 기초통계량(수치화)"
   ]
  },
  {
   "cell_type": "code",
   "execution_count": 9,
   "metadata": {
    "ExecuteTime": {
     "end_time": "2022-02-14T01:26:54.899120Z",
     "start_time": "2022-02-14T01:26:54.871418Z"
    },
    "id": "DJpEltSbfJCa"
   },
   "outputs": [
    {
     "data": {
      "text/plain": [
       "count    400.000000\n",
       "mean       7.496325\n",
       "std        2.824115\n",
       "min        0.000000\n",
       "25%        5.390000\n",
       "50%        7.490000\n",
       "75%        9.320000\n",
       "max       16.270000\n",
       "Name: Sales, dtype: float64"
      ]
     },
     "execution_count": 9,
     "metadata": {},
     "output_type": "execute_result"
    }
   ],
   "source": [
    "data[sales].describe()"
   ]
  },
  {
   "cell_type": "markdown",
   "metadata": {
    "id": "2mgIyJ3vfJCa"
   },
   "source": [
    "6) 분포 확인(시각화)"
   ]
  },
  {
   "cell_type": "code",
   "execution_count": 13,
   "metadata": {
    "ExecuteTime": {
     "end_time": "2022-02-14T01:28:45.511770Z",
     "start_time": "2022-02-14T01:28:44.860649Z"
    },
    "id": "8Nnz494-fJCa"
   },
   "outputs": [
    {
     "data": {
      "text/plain": [
       "Text(0.5, 1.0, 'Sales violinplot')"
      ]
     },
     "execution_count": 13,
     "metadata": {},
     "output_type": "execute_result"
    },
    {
     "data": {
      "image/png": "[encoded data removed]",
      "text/plain": [
       "<Figure size 1440x720 with 4 Axes>"
      ]
     },
     "metadata": {
      "needs_background": "light"
     },
     "output_type": "display_data"
    }
   ],
   "source": [
    "vis = data[sales]\n",
    "vis_name = \"Sales\"\n",
    "# 히스토그램, 밀도함수, 박스플롯, 바이올린 플롯\n",
    "\n",
    "plt.figure(figsize = (20,10))\n",
    "\n",
    "plt.subplot(2,2,1)\n",
    "plt.hist(vis, bins=16, edgecolor = \"grey\")\n",
    "plt.title(vis_name)\n",
    "\n",
    "plt.subplot(2,2,2)\n",
    "vis.plot(kind=\"kde\")\n",
    "plt.title(vis_name + \" kde\")\n",
    "\n",
    "plt.subplot(2,2,3)\n",
    "plt.boxplot(vis, vert = False)\n",
    "plt.title(vis_name + \" boxplot\")\n",
    "\n",
    "plt.subplot(2,2,4)\n",
    "plt.violinplot(vis, vert = False)\n",
    "plt.title(vis_name + \" violinplot\")"
   ]
  },
  {
   "cell_type": "markdown",
   "metadata": {
    "id": "s2MLcqE0fJCa"
   },
   "source": [
    "7) 기초통계량과 분포를 통해서 파악한 내용을 적어 봅시다.\n",
    "\n",
    "보이는 그대로를 넘어, 비즈니스 관점에서 고민하며 적어 봅시다."
   ]
  },
  {
   "cell_type": "markdown",
   "metadata": {
    "id": "6y_ksZO6fJCb"
   },
   "source": [
    "> 전체적으로 고르게 판매가 이루어져야하는데 주요 도시에 몰려있는것을 확인할 수 있다.<br>\n",
    "> 아예안팔린곳과 적게 팔린 지역을 확인해보고 그 지역을 더 잘팔릴수 있도록 만들어야 할 것 같다."
   ]
  },
  {
   "cell_type": "markdown",
   "metadata": {
    "id": "hr8edCgEfJCb"
   },
   "source": [
    "8) 추가 분석해 볼 사항이 있나요?"
   ]
  },
  {
   "cell_type": "markdown",
   "metadata": {
    "id": "X6WHDsGofJCb"
   },
   "source": [
    "> 적게 팔린 지역과 많이 팔린 지역의 이름을 확인해놓자.<br>\n",
    "> 4원 이하 구간과 9원 이상구간을 기준으로 확인해보자.<br>\n",
    "> 각 구간 별로 소득과 경쟁사 가격을 한번 비교해보자."
   ]
  },
  {
   "cell_type": "code",
   "execution_count": 32,
   "metadata": {
    "ExecuteTime": {
     "end_time": "2022-02-14T01:56:19.684611Z",
     "start_time": "2022-02-14T01:56:19.640831Z"
    },
    "collapsed": true
   },
   "outputs": [
    {
     "data": {
      "text/html": [
       "<div>\n",
       "<style scoped>\n",
       "    .dataframe tbody tr th:only-of-type {\n",
       "        vertical-align: middle;\n",
       "    }\n",
       "\n",
       "    .dataframe tbody tr th {\n",
       "        vertical-align: top;\n",
       "    }\n",
       "\n",
       "    .dataframe thead th {\n",
       "        text-align: right;\n",
       "    }\n",
       "</style>\n",
       "<table border=\"1\" class=\"dataframe\">\n",
       "  <thead>\n",
       "    <tr style=\"text-align: right;\">\n",
       "      <th></th>\n",
       "      <th>Sales</th>\n",
       "      <th>CompPrice</th>\n",
       "      <th>Income</th>\n",
       "      <th>Advertising</th>\n",
       "      <th>Population</th>\n",
       "      <th>Price</th>\n",
       "      <th>ShelveLoc</th>\n",
       "      <th>Age</th>\n",
       "      <th>Urban</th>\n",
       "      <th>US</th>\n",
       "    </tr>\n",
       "  </thead>\n",
       "  <tbody>\n",
       "    <tr>\n",
       "      <th>12</th>\n",
       "      <td>3.98</td>\n",
       "      <td>122</td>\n",
       "      <td>35</td>\n",
       "      <td>2</td>\n",
       "      <td>393</td>\n",
       "      <td>136</td>\n",
       "      <td>Medium</td>\n",
       "      <td>62</td>\n",
       "      <td>Yes</td>\n",
       "      <td>No</td>\n",
       "    </tr>\n",
       "    <tr>\n",
       "      <th>28</th>\n",
       "      <td>2.99</td>\n",
       "      <td>103</td>\n",
       "      <td>74</td>\n",
       "      <td>0</td>\n",
       "      <td>359</td>\n",
       "      <td>97</td>\n",
       "      <td>Bad</td>\n",
       "      <td>55</td>\n",
       "      <td>Yes</td>\n",
       "      <td>Yes</td>\n",
       "    </tr>\n",
       "    <tr>\n",
       "      <th>34</th>\n",
       "      <td>2.67</td>\n",
       "      <td>115</td>\n",
       "      <td>54</td>\n",
       "      <td>0</td>\n",
       "      <td>406</td>\n",
       "      <td>128</td>\n",
       "      <td>Medium</td>\n",
       "      <td>42</td>\n",
       "      <td>Yes</td>\n",
       "      <td>Yes</td>\n",
       "    </tr>\n",
       "    <tr>\n",
       "      <th>39</th>\n",
       "      <td>3.24</td>\n",
       "      <td>130</td>\n",
       "      <td>60</td>\n",
       "      <td>0</td>\n",
       "      <td>144</td>\n",
       "      <td>138</td>\n",
       "      <td>Bad</td>\n",
       "      <td>38</td>\n",
       "      <td>No</td>\n",
       "      <td>No</td>\n",
       "    </tr>\n",
       "    <tr>\n",
       "      <th>40</th>\n",
       "      <td>2.07</td>\n",
       "      <td>119</td>\n",
       "      <td>98</td>\n",
       "      <td>0</td>\n",
       "      <td>18</td>\n",
       "      <td>126</td>\n",
       "      <td>Bad</td>\n",
       "      <td>73</td>\n",
       "      <td>No</td>\n",
       "      <td>No</td>\n",
       "    </tr>\n",
       "    <tr>\n",
       "      <th>48</th>\n",
       "      <td>3.91</td>\n",
       "      <td>116</td>\n",
       "      <td>52</td>\n",
       "      <td>0</td>\n",
       "      <td>349</td>\n",
       "      <td>98</td>\n",
       "      <td>Bad</td>\n",
       "      <td>69</td>\n",
       "      <td>Yes</td>\n",
       "      <td>No</td>\n",
       "    </tr>\n",
       "    <tr>\n",
       "      <th>50</th>\n",
       "      <td>1.42</td>\n",
       "      <td>99</td>\n",
       "      <td>32</td>\n",
       "      <td>18</td>\n",
       "      <td>341</td>\n",
       "      <td>108</td>\n",
       "      <td>Bad</td>\n",
       "      <td>80</td>\n",
       "      <td>Yes</td>\n",
       "      <td>Yes</td>\n",
       "    </tr>\n",
       "    <tr>\n",
       "      <th>57</th>\n",
       "      <td>0.91</td>\n",
       "      <td>93</td>\n",
       "      <td>91</td>\n",
       "      <td>0</td>\n",
       "      <td>22</td>\n",
       "      <td>117</td>\n",
       "      <td>Bad</td>\n",
       "      <td>75</td>\n",
       "      <td>Yes</td>\n",
       "      <td>No</td>\n",
       "    </tr>\n",
       "    <tr>\n",
       "      <th>62</th>\n",
       "      <td>1.82</td>\n",
       "      <td>139</td>\n",
       "      <td>45</td>\n",
       "      <td>0</td>\n",
       "      <td>146</td>\n",
       "      <td>133</td>\n",
       "      <td>Bad</td>\n",
       "      <td>77</td>\n",
       "      <td>Yes</td>\n",
       "      <td>Yes</td>\n",
       "    </tr>\n",
       "    <tr>\n",
       "      <th>84</th>\n",
       "      <td>2.23</td>\n",
       "      <td>111</td>\n",
       "      <td>25</td>\n",
       "      <td>0</td>\n",
       "      <td>52</td>\n",
       "      <td>121</td>\n",
       "      <td>Bad</td>\n",
       "      <td>43</td>\n",
       "      <td>No</td>\n",
       "      <td>No</td>\n",
       "    </tr>\n",
       "    <tr>\n",
       "      <th>106</th>\n",
       "      <td>0.16</td>\n",
       "      <td>102</td>\n",
       "      <td>33</td>\n",
       "      <td>0</td>\n",
       "      <td>217</td>\n",
       "      <td>139</td>\n",
       "      <td>Medium</td>\n",
       "      <td>70</td>\n",
       "      <td>No</td>\n",
       "      <td>No</td>\n",
       "    </tr>\n",
       "    <tr>\n",
       "      <th>108</th>\n",
       "      <td>3.47</td>\n",
       "      <td>107</td>\n",
       "      <td>79</td>\n",
       "      <td>2</td>\n",
       "      <td>488</td>\n",
       "      <td>103</td>\n",
       "      <td>Bad</td>\n",
       "      <td>65</td>\n",
       "      <td>Yes</td>\n",
       "      <td>No</td>\n",
       "    </tr>\n",
       "    <tr>\n",
       "      <th>134</th>\n",
       "      <td>3.67</td>\n",
       "      <td>132</td>\n",
       "      <td>31</td>\n",
       "      <td>0</td>\n",
       "      <td>327</td>\n",
       "      <td>131</td>\n",
       "      <td>Medium</td>\n",
       "      <td>76</td>\n",
       "      <td>Yes</td>\n",
       "      <td>No</td>\n",
       "    </tr>\n",
       "    <tr>\n",
       "      <th>143</th>\n",
       "      <td>0.53</td>\n",
       "      <td>122</td>\n",
       "      <td>88</td>\n",
       "      <td>7</td>\n",
       "      <td>36</td>\n",
       "      <td>159</td>\n",
       "      <td>Bad</td>\n",
       "      <td>28</td>\n",
       "      <td>Yes</td>\n",
       "      <td>Yes</td>\n",
       "    </tr>\n",
       "    <tr>\n",
       "      <th>146</th>\n",
       "      <td>3.90</td>\n",
       "      <td>114</td>\n",
       "      <td>83</td>\n",
       "      <td>0</td>\n",
       "      <td>412</td>\n",
       "      <td>131</td>\n",
       "      <td>Bad</td>\n",
       "      <td>39</td>\n",
       "      <td>Yes</td>\n",
       "      <td>No</td>\n",
       "    </tr>\n",
       "    <tr>\n",
       "      <th>161</th>\n",
       "      <td>2.93</td>\n",
       "      <td>143</td>\n",
       "      <td>21</td>\n",
       "      <td>5</td>\n",
       "      <td>81</td>\n",
       "      <td>160</td>\n",
       "      <td>Medium</td>\n",
       "      <td>67</td>\n",
       "      <td>No</td>\n",
       "      <td>Yes</td>\n",
       "    </tr>\n",
       "    <tr>\n",
       "      <th>162</th>\n",
       "      <td>3.63</td>\n",
       "      <td>122</td>\n",
       "      <td>74</td>\n",
       "      <td>0</td>\n",
       "      <td>424</td>\n",
       "      <td>149</td>\n",
       "      <td>Medium</td>\n",
       "      <td>51</td>\n",
       "      <td>Yes</td>\n",
       "      <td>No</td>\n",
       "    </tr>\n",
       "    <tr>\n",
       "      <th>165</th>\n",
       "      <td>0.37</td>\n",
       "      <td>147</td>\n",
       "      <td>58</td>\n",
       "      <td>7</td>\n",
       "      <td>100</td>\n",
       "      <td>191</td>\n",
       "      <td>Bad</td>\n",
       "      <td>27</td>\n",
       "      <td>Yes</td>\n",
       "      <td>Yes</td>\n",
       "    </tr>\n",
       "    <tr>\n",
       "      <th>174</th>\n",
       "      <td>0.00</td>\n",
       "      <td>139</td>\n",
       "      <td>24</td>\n",
       "      <td>0</td>\n",
       "      <td>358</td>\n",
       "      <td>185</td>\n",
       "      <td>Medium</td>\n",
       "      <td>79</td>\n",
       "      <td>No</td>\n",
       "      <td>No</td>\n",
       "    </tr>\n",
       "    <tr>\n",
       "      <th>197</th>\n",
       "      <td>2.52</td>\n",
       "      <td>124</td>\n",
       "      <td>61</td>\n",
       "      <td>0</td>\n",
       "      <td>333</td>\n",
       "      <td>138</td>\n",
       "      <td>Medium</td>\n",
       "      <td>76</td>\n",
       "      <td>Yes</td>\n",
       "      <td>No</td>\n",
       "    </tr>\n",
       "    <tr>\n",
       "      <th>198</th>\n",
       "      <td>3.62</td>\n",
       "      <td>112</td>\n",
       "      <td>80</td>\n",
       "      <td>5</td>\n",
       "      <td>500</td>\n",
       "      <td>128</td>\n",
       "      <td>Medium</td>\n",
       "      <td>69</td>\n",
       "      <td>Yes</td>\n",
       "      <td>Yes</td>\n",
       "    </tr>\n",
       "    <tr>\n",
       "      <th>203</th>\n",
       "      <td>2.05</td>\n",
       "      <td>131</td>\n",
       "      <td>82</td>\n",
       "      <td>0</td>\n",
       "      <td>132</td>\n",
       "      <td>157</td>\n",
       "      <td>Bad</td>\n",
       "      <td>25</td>\n",
       "      <td>Yes</td>\n",
       "      <td>No</td>\n",
       "    </tr>\n",
       "    <tr>\n",
       "      <th>209</th>\n",
       "      <td>3.02</td>\n",
       "      <td>98</td>\n",
       "      <td>21</td>\n",
       "      <td>11</td>\n",
       "      <td>326</td>\n",
       "      <td>90</td>\n",
       "      <td>Bad</td>\n",
       "      <td>76</td>\n",
       "      <td>No</td>\n",
       "      <td>Yes</td>\n",
       "    </tr>\n",
       "    <tr>\n",
       "      <th>215</th>\n",
       "      <td>2.34</td>\n",
       "      <td>116</td>\n",
       "      <td>83</td>\n",
       "      <td>15</td>\n",
       "      <td>170</td>\n",
       "      <td>144</td>\n",
       "      <td>Bad</td>\n",
       "      <td>71</td>\n",
       "      <td>Yes</td>\n",
       "      <td>Yes</td>\n",
       "    </tr>\n",
       "    <tr>\n",
       "      <th>223</th>\n",
       "      <td>3.45</td>\n",
       "      <td>110</td>\n",
       "      <td>45</td>\n",
       "      <td>9</td>\n",
       "      <td>276</td>\n",
       "      <td>125</td>\n",
       "      <td>Medium</td>\n",
       "      <td>62</td>\n",
       "      <td>Yes</td>\n",
       "      <td>Yes</td>\n",
       "    </tr>\n",
       "    <tr>\n",
       "      <th>239</th>\n",
       "      <td>3.89</td>\n",
       "      <td>123</td>\n",
       "      <td>105</td>\n",
       "      <td>0</td>\n",
       "      <td>149</td>\n",
       "      <td>118</td>\n",
       "      <td>Bad</td>\n",
       "      <td>62</td>\n",
       "      <td>Yes</td>\n",
       "      <td>Yes</td>\n",
       "    </tr>\n",
       "    <tr>\n",
       "      <th>251</th>\n",
       "      <td>3.72</td>\n",
       "      <td>139</td>\n",
       "      <td>111</td>\n",
       "      <td>5</td>\n",
       "      <td>310</td>\n",
       "      <td>132</td>\n",
       "      <td>Bad</td>\n",
       "      <td>62</td>\n",
       "      <td>Yes</td>\n",
       "      <td>Yes</td>\n",
       "    </tr>\n",
       "    <tr>\n",
       "      <th>258</th>\n",
       "      <td>3.47</td>\n",
       "      <td>108</td>\n",
       "      <td>38</td>\n",
       "      <td>0</td>\n",
       "      <td>251</td>\n",
       "      <td>81</td>\n",
       "      <td>Bad</td>\n",
       "      <td>72</td>\n",
       "      <td>No</td>\n",
       "      <td>No</td>\n",
       "    </tr>\n",
       "    <tr>\n",
       "      <th>279</th>\n",
       "      <td>3.42</td>\n",
       "      <td>141</td>\n",
       "      <td>57</td>\n",
       "      <td>13</td>\n",
       "      <td>376</td>\n",
       "      <td>158</td>\n",
       "      <td>Medium</td>\n",
       "      <td>64</td>\n",
       "      <td>Yes</td>\n",
       "      <td>Yes</td>\n",
       "    </tr>\n",
       "    <tr>\n",
       "      <th>280</th>\n",
       "      <td>2.86</td>\n",
       "      <td>121</td>\n",
       "      <td>86</td>\n",
       "      <td>10</td>\n",
       "      <td>496</td>\n",
       "      <td>145</td>\n",
       "      <td>Bad</td>\n",
       "      <td>51</td>\n",
       "      <td>Yes</td>\n",
       "      <td>Yes</td>\n",
       "    </tr>\n",
       "    <tr>\n",
       "      <th>297</th>\n",
       "      <td>3.07</td>\n",
       "      <td>118</td>\n",
       "      <td>83</td>\n",
       "      <td>13</td>\n",
       "      <td>276</td>\n",
       "      <td>104</td>\n",
       "      <td>Bad</td>\n",
       "      <td>75</td>\n",
       "      <td>Yes</td>\n",
       "      <td>Yes</td>\n",
       "    </tr>\n",
       "    <tr>\n",
       "      <th>324</th>\n",
       "      <td>2.66</td>\n",
       "      <td>136</td>\n",
       "      <td>65</td>\n",
       "      <td>4</td>\n",
       "      <td>133</td>\n",
       "      <td>150</td>\n",
       "      <td>Bad</td>\n",
       "      <td>53</td>\n",
       "      <td>Yes</td>\n",
       "      <td>Yes</td>\n",
       "    </tr>\n",
       "    <tr>\n",
       "      <th>328</th>\n",
       "      <td>3.15</td>\n",
       "      <td>117</td>\n",
       "      <td>66</td>\n",
       "      <td>1</td>\n",
       "      <td>65</td>\n",
       "      <td>111</td>\n",
       "      <td>Bad</td>\n",
       "      <td>55</td>\n",
       "      <td>Yes</td>\n",
       "      <td>Yes</td>\n",
       "    </tr>\n",
       "    <tr>\n",
       "      <th>356</th>\n",
       "      <td>3.58</td>\n",
       "      <td>142</td>\n",
       "      <td>109</td>\n",
       "      <td>0</td>\n",
       "      <td>111</td>\n",
       "      <td>164</td>\n",
       "      <td>Good</td>\n",
       "      <td>72</td>\n",
       "      <td>Yes</td>\n",
       "      <td>No</td>\n",
       "    </tr>\n",
       "    <tr>\n",
       "      <th>359</th>\n",
       "      <td>3.13</td>\n",
       "      <td>130</td>\n",
       "      <td>62</td>\n",
       "      <td>11</td>\n",
       "      <td>396</td>\n",
       "      <td>130</td>\n",
       "      <td>Bad</td>\n",
       "      <td>66</td>\n",
       "      <td>Yes</td>\n",
       "      <td>Yes</td>\n",
       "    </tr>\n",
       "    <tr>\n",
       "      <th>381</th>\n",
       "      <td>3.90</td>\n",
       "      <td>124</td>\n",
       "      <td>65</td>\n",
       "      <td>21</td>\n",
       "      <td>496</td>\n",
       "      <td>151</td>\n",
       "      <td>Bad</td>\n",
       "      <td>77</td>\n",
       "      <td>Yes</td>\n",
       "      <td>Yes</td>\n",
       "    </tr>\n",
       "  </tbody>\n",
       "</table>\n",
       "</div>"
      ],
      "text/plain": [
       "     Sales  CompPrice  Income  Advertising  Population  Price ShelveLoc  Age  \\\n",
       "12    3.98        122      35            2         393    136    Medium   62   \n",
       "28    2.99        103      74            0         359     97       Bad   55   \n",
       "34    2.67        115      54            0         406    128    Medium   42   \n",
       "39    3.24        130      60            0         144    138       Bad   38   \n",
       "40    2.07        119      98            0          18    126       Bad   73   \n",
       "48    3.91        116      52            0         349     98       Bad   69   \n",
       "50    1.42         99      32           18         341    108       Bad   80   \n",
       "57    0.91         93      91            0          22    117       Bad   75   \n",
       "62    1.82        139      45            0         146    133       Bad   77   \n",
       "84    2.23        111      25            0          52    121       Bad   43   \n",
       "106   0.16        102      33            0         217    139    Medium   70   \n",
       "108   3.47        107      79            2         488    103       Bad   65   \n",
       "134   3.67        132      31            0         327    131    Medium   76   \n",
       "143   0.53        122      88            7          36    159       Bad   28   \n",
       "146   3.90        114      83            0         412    131       Bad   39   \n",
       "161   2.93        143      21            5          81    160    Medium   67   \n",
       "162   3.63        122      74            0         424    149    Medium   51   \n",
       "165   0.37        147      58            7         100    191       Bad   27   \n",
       "174   0.00        139      24            0         358    185    Medium   79   \n",
       "197   2.52        124      61            0         333    138    Medium   76   \n",
       "198   3.62        112      80            5         500    128    Medium   69   \n",
       "203   2.05        131      82            0         132    157       Bad   25   \n",
       "209   3.02         98      21           11         326     90       Bad   76   \n",
       "215   2.34        116      83           15         170    144       Bad   71   \n",
       "223   3.45        110      45            9         276    125    Medium   62   \n",
       "239   3.89        123     105            0         149    118       Bad   62   \n",
       "251   3.72        139     111            5         310    132       Bad   62   \n",
       "258   3.47        108      38            0         251     81       Bad   72   \n",
       "279   3.42        141      57           13         376    158    Medium   64   \n",
       "280   2.86        121      86           10         496    145       Bad   51   \n",
       "297   3.07        118      83           13         276    104       Bad   75   \n",
       "324   2.66        136      65            4         133    150       Bad   53   \n",
       "328   3.15        117      66            1          65    111       Bad   55   \n",
       "356   3.58        142     109            0         111    164      Good   72   \n",
       "359   3.13        130      62           11         396    130       Bad   66   \n",
       "381   3.90        124      65           21         496    151       Bad   77   \n",
       "\n",
       "    Urban   US  \n",
       "12    Yes   No  \n",
       "28    Yes  Yes  \n",
       "34    Yes  Yes  \n",
       "39     No   No  \n",
       "40     No   No  \n",
       "48    Yes   No  \n",
       "50    Yes  Yes  \n",
       "57    Yes   No  \n",
       "62    Yes  Yes  \n",
       "84     No   No  \n",
       "106    No   No  \n",
       "108   Yes   No  \n",
       "134   Yes   No  \n",
       "143   Yes  Yes  \n",
       "146   Yes   No  \n",
       "161    No  Yes  \n",
       "162   Yes   No  \n",
       "165   Yes  Yes  \n",
       "174    No   No  \n",
       "197   Yes   No  \n",
       "198   Yes  Yes  \n",
       "203   Yes   No  \n",
       "209    No  Yes  \n",
       "215   Yes  Yes  \n",
       "223   Yes  Yes  \n",
       "239   Yes  Yes  \n",
       "251   Yes  Yes  \n",
       "258    No   No  \n",
       "279   Yes  Yes  \n",
       "280   Yes  Yes  \n",
       "297   Yes  Yes  \n",
       "324   Yes  Yes  \n",
       "328   Yes  Yes  \n",
       "356   Yes   No  \n",
       "359   Yes  Yes  \n",
       "381   Yes  Yes  "
      ]
     },
     "execution_count": 32,
     "metadata": {},
     "output_type": "execute_result"
    }
   ],
   "source": [
    "# 4 이하 판매된 지역\n",
    "sales_down = data[data[sales]<=4]\n",
    "sales_down"
   ]
  },
  {
   "cell_type": "code",
   "execution_count": 33,
   "metadata": {
    "ExecuteTime": {
     "end_time": "2022-02-14T01:56:19.714664Z",
     "start_time": "2022-02-14T01:56:19.687615Z"
    },
    "collapsed": true
   },
   "outputs": [
    {
     "data": {
      "text/html": [
       "<div>\n",
       "<style scoped>\n",
       "    .dataframe tbody tr th:only-of-type {\n",
       "        vertical-align: middle;\n",
       "    }\n",
       "\n",
       "    .dataframe tbody tr th {\n",
       "        vertical-align: top;\n",
       "    }\n",
       "\n",
       "    .dataframe thead th {\n",
       "        text-align: right;\n",
       "    }\n",
       "</style>\n",
       "<table border=\"1\" class=\"dataframe\">\n",
       "  <thead>\n",
       "    <tr style=\"text-align: right;\">\n",
       "      <th></th>\n",
       "      <th>Sales</th>\n",
       "      <th>CompPrice</th>\n",
       "      <th>Income</th>\n",
       "      <th>Advertising</th>\n",
       "      <th>Population</th>\n",
       "      <th>Price</th>\n",
       "      <th>ShelveLoc</th>\n",
       "      <th>Age</th>\n",
       "      <th>Urban</th>\n",
       "      <th>US</th>\n",
       "    </tr>\n",
       "  </thead>\n",
       "  <tbody>\n",
       "    <tr>\n",
       "      <th>0</th>\n",
       "      <td>9.50</td>\n",
       "      <td>138</td>\n",
       "      <td>73</td>\n",
       "      <td>11</td>\n",
       "      <td>276</td>\n",
       "      <td>120</td>\n",
       "      <td>Bad</td>\n",
       "      <td>42</td>\n",
       "      <td>Yes</td>\n",
       "      <td>Yes</td>\n",
       "    </tr>\n",
       "    <tr>\n",
       "      <th>1</th>\n",
       "      <td>11.22</td>\n",
       "      <td>111</td>\n",
       "      <td>48</td>\n",
       "      <td>16</td>\n",
       "      <td>260</td>\n",
       "      <td>83</td>\n",
       "      <td>Good</td>\n",
       "      <td>65</td>\n",
       "      <td>Yes</td>\n",
       "      <td>Yes</td>\n",
       "    </tr>\n",
       "    <tr>\n",
       "      <th>2</th>\n",
       "      <td>10.06</td>\n",
       "      <td>113</td>\n",
       "      <td>35</td>\n",
       "      <td>10</td>\n",
       "      <td>269</td>\n",
       "      <td>80</td>\n",
       "      <td>Medium</td>\n",
       "      <td>59</td>\n",
       "      <td>Yes</td>\n",
       "      <td>Yes</td>\n",
       "    </tr>\n",
       "    <tr>\n",
       "      <th>5</th>\n",
       "      <td>10.81</td>\n",
       "      <td>124</td>\n",
       "      <td>113</td>\n",
       "      <td>13</td>\n",
       "      <td>501</td>\n",
       "      <td>72</td>\n",
       "      <td>Bad</td>\n",
       "      <td>78</td>\n",
       "      <td>No</td>\n",
       "      <td>Yes</td>\n",
       "    </tr>\n",
       "    <tr>\n",
       "      <th>7</th>\n",
       "      <td>11.85</td>\n",
       "      <td>136</td>\n",
       "      <td>81</td>\n",
       "      <td>15</td>\n",
       "      <td>425</td>\n",
       "      <td>120</td>\n",
       "      <td>Good</td>\n",
       "      <td>67</td>\n",
       "      <td>Yes</td>\n",
       "      <td>Yes</td>\n",
       "    </tr>\n",
       "    <tr>\n",
       "      <th>...</th>\n",
       "      <td>...</td>\n",
       "      <td>...</td>\n",
       "      <td>...</td>\n",
       "      <td>...</td>\n",
       "      <td>...</td>\n",
       "      <td>...</td>\n",
       "      <td>...</td>\n",
       "      <td>...</td>\n",
       "      <td>...</td>\n",
       "      <td>...</td>\n",
       "    </tr>\n",
       "    <tr>\n",
       "      <th>380</th>\n",
       "      <td>9.64</td>\n",
       "      <td>106</td>\n",
       "      <td>64</td>\n",
       "      <td>10</td>\n",
       "      <td>17</td>\n",
       "      <td>89</td>\n",
       "      <td>Medium</td>\n",
       "      <td>68</td>\n",
       "      <td>Yes</td>\n",
       "      <td>Yes</td>\n",
       "    </tr>\n",
       "    <tr>\n",
       "      <th>383</th>\n",
       "      <td>9.35</td>\n",
       "      <td>98</td>\n",
       "      <td>117</td>\n",
       "      <td>0</td>\n",
       "      <td>76</td>\n",
       "      <td>68</td>\n",
       "      <td>Medium</td>\n",
       "      <td>63</td>\n",
       "      <td>Yes</td>\n",
       "      <td>No</td>\n",
       "    </tr>\n",
       "    <tr>\n",
       "      <th>384</th>\n",
       "      <td>12.85</td>\n",
       "      <td>123</td>\n",
       "      <td>37</td>\n",
       "      <td>15</td>\n",
       "      <td>348</td>\n",
       "      <td>112</td>\n",
       "      <td>Good</td>\n",
       "      <td>28</td>\n",
       "      <td>Yes</td>\n",
       "      <td>Yes</td>\n",
       "    </tr>\n",
       "    <tr>\n",
       "      <th>395</th>\n",
       "      <td>12.57</td>\n",
       "      <td>138</td>\n",
       "      <td>108</td>\n",
       "      <td>17</td>\n",
       "      <td>203</td>\n",
       "      <td>128</td>\n",
       "      <td>Good</td>\n",
       "      <td>33</td>\n",
       "      <td>Yes</td>\n",
       "      <td>Yes</td>\n",
       "    </tr>\n",
       "    <tr>\n",
       "      <th>399</th>\n",
       "      <td>9.71</td>\n",
       "      <td>134</td>\n",
       "      <td>37</td>\n",
       "      <td>0</td>\n",
       "      <td>27</td>\n",
       "      <td>120</td>\n",
       "      <td>Good</td>\n",
       "      <td>49</td>\n",
       "      <td>Yes</td>\n",
       "      <td>Yes</td>\n",
       "    </tr>\n",
       "  </tbody>\n",
       "</table>\n",
       "<p>114 rows × 10 columns</p>\n",
       "</div>"
      ],
      "text/plain": [
       "     Sales  CompPrice  Income  Advertising  Population  Price ShelveLoc  Age  \\\n",
       "0     9.50        138      73           11         276    120       Bad   42   \n",
       "1    11.22        111      48           16         260     83      Good   65   \n",
       "2    10.06        113      35           10         269     80    Medium   59   \n",
       "5    10.81        124     113           13         501     72       Bad   78   \n",
       "7    11.85        136      81           15         425    120      Good   67   \n",
       "..     ...        ...     ...          ...         ...    ...       ...  ...   \n",
       "380   9.64        106      64           10          17     89    Medium   68   \n",
       "383   9.35         98     117            0          76     68    Medium   63   \n",
       "384  12.85        123      37           15         348    112      Good   28   \n",
       "395  12.57        138     108           17         203    128      Good   33   \n",
       "399   9.71        134      37            0          27    120      Good   49   \n",
       "\n",
       "    Urban   US  \n",
       "0     Yes  Yes  \n",
       "1     Yes  Yes  \n",
       "2     Yes  Yes  \n",
       "5      No  Yes  \n",
       "7     Yes  Yes  \n",
       "..    ...  ...  \n",
       "380   Yes  Yes  \n",
       "383   Yes   No  \n",
       "384   Yes  Yes  \n",
       "395   Yes  Yes  \n",
       "399   Yes  Yes  \n",
       "\n",
       "[114 rows x 10 columns]"
      ]
     },
     "execution_count": 33,
     "metadata": {},
     "output_type": "execute_result"
    }
   ],
   "source": [
    "# 9 이상 판매된 지역\n",
    "sales_up = data[data[sales]>=9]\n",
    "sales_up"
   ]
  },
  {
   "cell_type": "markdown",
   "metadata": {},
   "source": [
    "### 적게 팔린 지역과 많이 팔린 지역의 Income을 비교해보자"
   ]
  },
  {
   "cell_type": "code",
   "execution_count": 34,
   "metadata": {
    "ExecuteTime": {
     "end_time": "2022-02-14T01:56:28.960071Z",
     "start_time": "2022-02-14T01:56:28.636698Z"
    }
   },
   "outputs": [
    {
     "data": {
      "text/plain": [
       "Text(0.5, 1.0, 'sales 4 down')"
      ]
     },
     "execution_count": 34,
     "metadata": {},
     "output_type": "execute_result"
    },
    {
     "data": {
      "image/png": "[encoded data removed]",
      "text/plain": [
       "<Figure size 720x288 with 2 Axes>"
      ]
     },
     "metadata": {
      "needs_background": "light"
     },
     "output_type": "display_data"
    }
   ],
   "source": [
    "plt.figure(figsize=(10,4))\n",
    "\n",
    "plt.subplot(1,2,1)\n",
    "plt.hist(sales_up[\"Income\"], bins= 10,edgecolor=\"grey\")\n",
    "plt.title(\"sales 9 up\")\n",
    "\n",
    "plt.subplot(1,2,2)\n",
    "plt.hist(sales_down[\"Income\"], bins= 10,edgecolor=\"grey\")\n",
    "plt.title(\"sales 4 down\")"
   ]
  },
  {
   "cell_type": "markdown",
   "metadata": {},
   "source": [
    "> 평균소득이 높은곳에서 많이 팔린것으로 보인다..<br>\n",
    "> 하지만 평균소득이 높은데도 불구하고 적게 팔린곳이 있는것으로 보아 평균소득뿐만 아니라 다른곳도 확인이 필요해보인다."
   ]
  },
  {
   "cell_type": "markdown",
   "metadata": {
    "id": "9WGX3Pm8g8HV"
   },
   "source": [
    "### ② CompPrice"
   ]
  },
  {
   "cell_type": "markdown",
   "metadata": {
    "id": "dNdMX51gg8HW"
   },
   "source": [
    "1) 변수의 비즈니스 의미"
   ]
  },
  {
   "cell_type": "markdown",
   "metadata": {
    "id": "uGVxKVeEg8HW"
   },
   "source": [
    "> 경쟁사와의 가격을 판단하여 우리제품의 경쟁력을 확인할 수 있다."
   ]
  },
  {
   "cell_type": "markdown",
   "metadata": {
    "id": "ppihA1T2g8HW"
   },
   "source": [
    "2) 숫자, 범주?"
   ]
  },
  {
   "cell_type": "code",
   "execution_count": 35,
   "metadata": {
    "ExecuteTime": {
     "end_time": "2022-02-14T02:04:59.873906Z",
     "start_time": "2022-02-14T02:04:59.861042Z"
    },
    "id": "0c1zhjeEg8HW"
   },
   "outputs": [
    {
     "data": {
      "text/plain": [
       "0      138\n",
       "1      111\n",
       "2      113\n",
       "3      117\n",
       "4      141\n",
       "      ... \n",
       "395    138\n",
       "396    139\n",
       "397    162\n",
       "398    100\n",
       "399    134\n",
       "Name: CompPrice, Length: 400, dtype: int64"
      ]
     },
     "execution_count": 35,
     "metadata": {},
     "output_type": "execute_result"
    }
   ],
   "source": [
    "comp = \"CompPrice\"\n",
    "data[comp]"
   ]
  },
  {
   "cell_type": "markdown",
   "metadata": {
    "id": "bJqcxhrCg8HW"
   },
   "source": [
    "> 숫자형이다."
   ]
  },
  {
   "cell_type": "markdown",
   "metadata": {
    "id": "u2FDNkm-g8HW"
   },
   "source": [
    "3) NaN 존재 유무 및 조치방안"
   ]
  },
  {
   "cell_type": "code",
   "execution_count": 36,
   "metadata": {
    "ExecuteTime": {
     "end_time": "2022-02-14T02:05:24.906246Z",
     "start_time": "2022-02-14T02:05:24.881094Z"
    },
    "id": "DQilt318g8HW"
   },
   "outputs": [
    {
     "data": {
      "text/plain": [
       "0"
      ]
     },
     "execution_count": 36,
     "metadata": {},
     "output_type": "execute_result"
    }
   ],
   "source": [
    "data[comp].isna().sum()"
   ]
  },
  {
   "cell_type": "markdown",
   "metadata": {
    "id": "moLEhR-ng8HW"
   },
   "source": [
    "4) 가변수화 필요 여부"
   ]
  },
  {
   "cell_type": "markdown",
   "metadata": {
    "id": "9ZLMPb37g8HW"
   },
   "source": [
    "> 숫자형이므로 필요없다."
   ]
  },
  {
   "cell_type": "markdown",
   "metadata": {
    "id": "YYUSlGqJg8HX"
   },
   "source": [
    "5) 기초통계량(수치화)"
   ]
  },
  {
   "cell_type": "code",
   "execution_count": 37,
   "metadata": {
    "ExecuteTime": {
     "end_time": "2022-02-14T02:07:46.676607Z",
     "start_time": "2022-02-14T02:07:46.649830Z"
    },
    "id": "2Ne107Rmg8HX"
   },
   "outputs": [
    {
     "data": {
      "text/plain": [
       "count    400.000000\n",
       "mean     124.975000\n",
       "std       15.334512\n",
       "min       77.000000\n",
       "25%      115.000000\n",
       "50%      125.000000\n",
       "75%      135.000000\n",
       "max      175.000000\n",
       "Name: CompPrice, dtype: float64"
      ]
     },
     "execution_count": 37,
     "metadata": {},
     "output_type": "execute_result"
    }
   ],
   "source": [
    "data[comp].describe()"
   ]
  },
  {
   "cell_type": "markdown",
   "metadata": {
    "id": "hdb2iGBRg8HX"
   },
   "source": [
    "6) 분포 확인(시각화)"
   ]
  },
  {
   "cell_type": "code",
   "execution_count": 38,
   "metadata": {
    "ExecuteTime": {
     "end_time": "2022-02-14T02:08:02.185060Z",
     "start_time": "2022-02-14T02:08:01.643811Z"
    },
    "id": "_u_W-AYkg8HX"
   },
   "outputs": [
    {
     "data": {
      "text/plain": [
       "Text(0.5, 1.0, 'Compare Price violinplot')"
      ]
     },
     "execution_count": 38,
     "metadata": {},
     "output_type": "execute_result"
    },
    {
     "data": {
      "image/png": "[encoded data removed]",
      "text/plain": [
       "<Figure size 1440x720 with 4 Axes>"
      ]
     },
     "metadata": {
      "needs_background": "light"
     },
     "output_type": "display_data"
    }
   ],
   "source": [
    "vis = data[comp]\n",
    "vis_name = \"Compare Price\"\n",
    "# 히스토그램, 밀도함수, 박스플롯, 바이올린 플롯\n",
    "\n",
    "plt.figure(figsize = (20,10))\n",
    "\n",
    "plt.subplot(2,2,1)\n",
    "plt.hist(vis, bins=16, edgecolor = \"grey\")\n",
    "plt.title(vis_name)\n",
    "\n",
    "plt.subplot(2,2,2)\n",
    "vis.plot(kind=\"kde\")\n",
    "plt.title(vis_name + \" kde\")\n",
    "\n",
    "plt.subplot(2,2,3)\n",
    "plt.boxplot(vis, vert = False)\n",
    "plt.title(vis_name + \" boxplot\")\n",
    "\n",
    "plt.subplot(2,2,4)\n",
    "plt.violinplot(vis, vert = False)\n",
    "plt.title(vis_name + \" violinplot\")"
   ]
  },
  {
   "cell_type": "markdown",
   "metadata": {
    "id": "wx353mmZg8HX"
   },
   "source": [
    "7) 기초통계량과 분포를 통해서 파악한 내용을 적어 봅시다.\n",
    "\n",
    "보이는 그대로를 넘어, 비즈니스 관점에서 고민하며 적어 봅시다."
   ]
  },
  {
   "cell_type": "markdown",
   "metadata": {
    "id": "bqvUNLh5g8HX"
   },
   "source": [
    "> 사실 경쟁사 가격만 보았을떄는 크게 의미가 없어보인다. 각 지역별로 얼마나 자사 지역별 판매가격과 비교해보는것이 필요해보인다."
   ]
  },
  {
   "cell_type": "markdown",
   "metadata": {
    "id": "vlhNsPplg8HX"
   },
   "source": [
    "8) 추가 분석해 볼 사항이 있나요?"
   ]
  },
  {
   "cell_type": "markdown",
   "metadata": {
    "id": "zed_CITmg8HX"
   },
   "source": [
    "### 자사 지역별 판매가격과 경쟁사가격의 비교"
   ]
  },
  {
   "cell_type": "code",
   "execution_count": 45,
   "metadata": {
    "ExecuteTime": {
     "end_time": "2022-02-14T02:14:25.676456Z",
     "start_time": "2022-02-14T02:14:25.636086Z"
    }
   },
   "outputs": [
    {
     "data": {
      "text/html": [
       "<div>\n",
       "<style scoped>\n",
       "    .dataframe tbody tr th:only-of-type {\n",
       "        vertical-align: middle;\n",
       "    }\n",
       "\n",
       "    .dataframe tbody tr th {\n",
       "        vertical-align: top;\n",
       "    }\n",
       "\n",
       "    .dataframe thead th {\n",
       "        text-align: right;\n",
       "    }\n",
       "</style>\n",
       "<table border=\"1\" class=\"dataframe\">\n",
       "  <thead>\n",
       "    <tr style=\"text-align: right;\">\n",
       "      <th></th>\n",
       "      <th>Sales</th>\n",
       "      <th>CompPrice</th>\n",
       "      <th>Income</th>\n",
       "      <th>Advertising</th>\n",
       "      <th>Population</th>\n",
       "      <th>Price</th>\n",
       "      <th>ShelveLoc</th>\n",
       "      <th>Age</th>\n",
       "      <th>Urban</th>\n",
       "      <th>US</th>\n",
       "    </tr>\n",
       "  </thead>\n",
       "  <tbody>\n",
       "    <tr>\n",
       "      <th>0</th>\n",
       "      <td>9.50</td>\n",
       "      <td>138</td>\n",
       "      <td>73</td>\n",
       "      <td>11</td>\n",
       "      <td>276</td>\n",
       "      <td>120</td>\n",
       "      <td>Bad</td>\n",
       "      <td>42</td>\n",
       "      <td>Yes</td>\n",
       "      <td>Yes</td>\n",
       "    </tr>\n",
       "    <tr>\n",
       "      <th>1</th>\n",
       "      <td>11.22</td>\n",
       "      <td>111</td>\n",
       "      <td>48</td>\n",
       "      <td>16</td>\n",
       "      <td>260</td>\n",
       "      <td>83</td>\n",
       "      <td>Good</td>\n",
       "      <td>65</td>\n",
       "      <td>Yes</td>\n",
       "      <td>Yes</td>\n",
       "    </tr>\n",
       "    <tr>\n",
       "      <th>2</th>\n",
       "      <td>10.06</td>\n",
       "      <td>113</td>\n",
       "      <td>35</td>\n",
       "      <td>10</td>\n",
       "      <td>269</td>\n",
       "      <td>80</td>\n",
       "      <td>Medium</td>\n",
       "      <td>59</td>\n",
       "      <td>Yes</td>\n",
       "      <td>Yes</td>\n",
       "    </tr>\n",
       "    <tr>\n",
       "      <th>3</th>\n",
       "      <td>7.40</td>\n",
       "      <td>117</td>\n",
       "      <td>100</td>\n",
       "      <td>4</td>\n",
       "      <td>466</td>\n",
       "      <td>97</td>\n",
       "      <td>Medium</td>\n",
       "      <td>55</td>\n",
       "      <td>Yes</td>\n",
       "      <td>Yes</td>\n",
       "    </tr>\n",
       "    <tr>\n",
       "      <th>4</th>\n",
       "      <td>4.15</td>\n",
       "      <td>141</td>\n",
       "      <td>64</td>\n",
       "      <td>3</td>\n",
       "      <td>340</td>\n",
       "      <td>128</td>\n",
       "      <td>Bad</td>\n",
       "      <td>38</td>\n",
       "      <td>Yes</td>\n",
       "      <td>No</td>\n",
       "    </tr>\n",
       "    <tr>\n",
       "      <th>...</th>\n",
       "      <td>...</td>\n",
       "      <td>...</td>\n",
       "      <td>...</td>\n",
       "      <td>...</td>\n",
       "      <td>...</td>\n",
       "      <td>...</td>\n",
       "      <td>...</td>\n",
       "      <td>...</td>\n",
       "      <td>...</td>\n",
       "      <td>...</td>\n",
       "    </tr>\n",
       "    <tr>\n",
       "      <th>395</th>\n",
       "      <td>12.57</td>\n",
       "      <td>138</td>\n",
       "      <td>108</td>\n",
       "      <td>17</td>\n",
       "      <td>203</td>\n",
       "      <td>128</td>\n",
       "      <td>Good</td>\n",
       "      <td>33</td>\n",
       "      <td>Yes</td>\n",
       "      <td>Yes</td>\n",
       "    </tr>\n",
       "    <tr>\n",
       "      <th>396</th>\n",
       "      <td>6.14</td>\n",
       "      <td>139</td>\n",
       "      <td>23</td>\n",
       "      <td>3</td>\n",
       "      <td>37</td>\n",
       "      <td>120</td>\n",
       "      <td>Medium</td>\n",
       "      <td>55</td>\n",
       "      <td>No</td>\n",
       "      <td>Yes</td>\n",
       "    </tr>\n",
       "    <tr>\n",
       "      <th>397</th>\n",
       "      <td>7.41</td>\n",
       "      <td>162</td>\n",
       "      <td>26</td>\n",
       "      <td>12</td>\n",
       "      <td>368</td>\n",
       "      <td>159</td>\n",
       "      <td>Medium</td>\n",
       "      <td>40</td>\n",
       "      <td>Yes</td>\n",
       "      <td>Yes</td>\n",
       "    </tr>\n",
       "    <tr>\n",
       "      <th>398</th>\n",
       "      <td>5.94</td>\n",
       "      <td>100</td>\n",
       "      <td>79</td>\n",
       "      <td>7</td>\n",
       "      <td>284</td>\n",
       "      <td>95</td>\n",
       "      <td>Bad</td>\n",
       "      <td>50</td>\n",
       "      <td>Yes</td>\n",
       "      <td>Yes</td>\n",
       "    </tr>\n",
       "    <tr>\n",
       "      <th>399</th>\n",
       "      <td>9.71</td>\n",
       "      <td>134</td>\n",
       "      <td>37</td>\n",
       "      <td>0</td>\n",
       "      <td>27</td>\n",
       "      <td>120</td>\n",
       "      <td>Good</td>\n",
       "      <td>49</td>\n",
       "      <td>Yes</td>\n",
       "      <td>Yes</td>\n",
       "    </tr>\n",
       "  </tbody>\n",
       "</table>\n",
       "<p>400 rows × 10 columns</p>\n",
       "</div>"
      ],
      "text/plain": [
       "     Sales  CompPrice  Income  Advertising  Population  Price ShelveLoc  Age  \\\n",
       "0     9.50        138      73           11         276    120       Bad   42   \n",
       "1    11.22        111      48           16         260     83      Good   65   \n",
       "2    10.06        113      35           10         269     80    Medium   59   \n",
       "3     7.40        117     100            4         466     97    Medium   55   \n",
       "4     4.15        141      64            3         340    128       Bad   38   \n",
       "..     ...        ...     ...          ...         ...    ...       ...  ...   \n",
       "395  12.57        138     108           17         203    128      Good   33   \n",
       "396   6.14        139      23            3          37    120    Medium   55   \n",
       "397   7.41        162      26           12         368    159    Medium   40   \n",
       "398   5.94        100      79            7         284     95       Bad   50   \n",
       "399   9.71        134      37            0          27    120      Good   49   \n",
       "\n",
       "    Urban   US  \n",
       "0     Yes  Yes  \n",
       "1     Yes  Yes  \n",
       "2     Yes  Yes  \n",
       "3     Yes  Yes  \n",
       "4     Yes   No  \n",
       "..    ...  ...  \n",
       "395   Yes  Yes  \n",
       "396    No  Yes  \n",
       "397   Yes  Yes  \n",
       "398   Yes  Yes  \n",
       "399   Yes  Yes  \n",
       "\n",
       "[400 rows x 10 columns]"
      ]
     },
     "execution_count": 45,
     "metadata": {},
     "output_type": "execute_result"
    }
   ],
   "source": [
    "data"
   ]
  },
  {
   "cell_type": "markdown",
   "metadata": {
    "ExecuteTime": {
     "end_time": "2022-02-14T02:14:58.651248Z",
     "start_time": "2022-02-14T02:14:58.639640Z"
    }
   },
   "source": [
    "* 데이터 별 구분지어줄 수 있는 primary key가 없기때문에 index를 변수로 사용"
   ]
  },
  {
   "cell_type": "code",
   "execution_count": 47,
   "metadata": {
    "ExecuteTime": {
     "end_time": "2022-02-14T02:15:15.932492Z",
     "start_time": "2022-02-14T02:15:15.920101Z"
    }
   },
   "outputs": [],
   "source": [
    "data_comp = data.reset_index()"
   ]
  },
  {
   "cell_type": "code",
   "execution_count": 49,
   "metadata": {
    "ExecuteTime": {
     "end_time": "2022-02-14T02:15:44.876857Z",
     "start_time": "2022-02-14T02:15:44.848871Z"
    }
   },
   "outputs": [
    {
     "data": {
      "text/html": [
       "<div>\n",
       "<style scoped>\n",
       "    .dataframe tbody tr th:only-of-type {\n",
       "        vertical-align: middle;\n",
       "    }\n",
       "\n",
       "    .dataframe tbody tr th {\n",
       "        vertical-align: top;\n",
       "    }\n",
       "\n",
       "    .dataframe thead th {\n",
       "        text-align: right;\n",
       "    }\n",
       "</style>\n",
       "<table border=\"1\" class=\"dataframe\">\n",
       "  <thead>\n",
       "    <tr style=\"text-align: right;\">\n",
       "      <th></th>\n",
       "      <th>index</th>\n",
       "      <th>Sales</th>\n",
       "      <th>CompPrice</th>\n",
       "      <th>Income</th>\n",
       "      <th>Advertising</th>\n",
       "      <th>Population</th>\n",
       "      <th>Price</th>\n",
       "      <th>ShelveLoc</th>\n",
       "      <th>Age</th>\n",
       "      <th>Urban</th>\n",
       "      <th>US</th>\n",
       "    </tr>\n",
       "  </thead>\n",
       "  <tbody>\n",
       "    <tr>\n",
       "      <th>174</th>\n",
       "      <td>174</td>\n",
       "      <td>0.00</td>\n",
       "      <td>139</td>\n",
       "      <td>24</td>\n",
       "      <td>0</td>\n",
       "      <td>358</td>\n",
       "      <td>185</td>\n",
       "      <td>Medium</td>\n",
       "      <td>79</td>\n",
       "      <td>No</td>\n",
       "      <td>No</td>\n",
       "    </tr>\n",
       "    <tr>\n",
       "      <th>106</th>\n",
       "      <td>106</td>\n",
       "      <td>0.16</td>\n",
       "      <td>102</td>\n",
       "      <td>33</td>\n",
       "      <td>0</td>\n",
       "      <td>217</td>\n",
       "      <td>139</td>\n",
       "      <td>Medium</td>\n",
       "      <td>70</td>\n",
       "      <td>No</td>\n",
       "      <td>No</td>\n",
       "    </tr>\n",
       "    <tr>\n",
       "      <th>165</th>\n",
       "      <td>165</td>\n",
       "      <td>0.37</td>\n",
       "      <td>147</td>\n",
       "      <td>58</td>\n",
       "      <td>7</td>\n",
       "      <td>100</td>\n",
       "      <td>191</td>\n",
       "      <td>Bad</td>\n",
       "      <td>27</td>\n",
       "      <td>Yes</td>\n",
       "      <td>Yes</td>\n",
       "    </tr>\n",
       "    <tr>\n",
       "      <th>143</th>\n",
       "      <td>143</td>\n",
       "      <td>0.53</td>\n",
       "      <td>122</td>\n",
       "      <td>88</td>\n",
       "      <td>7</td>\n",
       "      <td>36</td>\n",
       "      <td>159</td>\n",
       "      <td>Bad</td>\n",
       "      <td>28</td>\n",
       "      <td>Yes</td>\n",
       "      <td>Yes</td>\n",
       "    </tr>\n",
       "    <tr>\n",
       "      <th>57</th>\n",
       "      <td>57</td>\n",
       "      <td>0.91</td>\n",
       "      <td>93</td>\n",
       "      <td>91</td>\n",
       "      <td>0</td>\n",
       "      <td>22</td>\n",
       "      <td>117</td>\n",
       "      <td>Bad</td>\n",
       "      <td>75</td>\n",
       "      <td>Yes</td>\n",
       "      <td>No</td>\n",
       "    </tr>\n",
       "    <tr>\n",
       "      <th>...</th>\n",
       "      <td>...</td>\n",
       "      <td>...</td>\n",
       "      <td>...</td>\n",
       "      <td>...</td>\n",
       "      <td>...</td>\n",
       "      <td>...</td>\n",
       "      <td>...</td>\n",
       "      <td>...</td>\n",
       "      <td>...</td>\n",
       "      <td>...</td>\n",
       "      <td>...</td>\n",
       "    </tr>\n",
       "    <tr>\n",
       "      <th>18</th>\n",
       "      <td>18</td>\n",
       "      <td>13.91</td>\n",
       "      <td>110</td>\n",
       "      <td>110</td>\n",
       "      <td>0</td>\n",
       "      <td>408</td>\n",
       "      <td>68</td>\n",
       "      <td>Good</td>\n",
       "      <td>46</td>\n",
       "      <td>No</td>\n",
       "      <td>Yes</td>\n",
       "    </tr>\n",
       "    <tr>\n",
       "      <th>367</th>\n",
       "      <td>367</td>\n",
       "      <td>14.37</td>\n",
       "      <td>95</td>\n",
       "      <td>106</td>\n",
       "      <td>0</td>\n",
       "      <td>256</td>\n",
       "      <td>53</td>\n",
       "      <td>Good</td>\n",
       "      <td>52</td>\n",
       "      <td>Yes</td>\n",
       "      <td>No</td>\n",
       "    </tr>\n",
       "    <tr>\n",
       "      <th>25</th>\n",
       "      <td>25</td>\n",
       "      <td>14.90</td>\n",
       "      <td>139</td>\n",
       "      <td>32</td>\n",
       "      <td>0</td>\n",
       "      <td>176</td>\n",
       "      <td>82</td>\n",
       "      <td>Good</td>\n",
       "      <td>54</td>\n",
       "      <td>No</td>\n",
       "      <td>No</td>\n",
       "    </tr>\n",
       "    <tr>\n",
       "      <th>316</th>\n",
       "      <td>316</td>\n",
       "      <td>15.63</td>\n",
       "      <td>122</td>\n",
       "      <td>36</td>\n",
       "      <td>5</td>\n",
       "      <td>369</td>\n",
       "      <td>72</td>\n",
       "      <td>Good</td>\n",
       "      <td>35</td>\n",
       "      <td>Yes</td>\n",
       "      <td>Yes</td>\n",
       "    </tr>\n",
       "    <tr>\n",
       "      <th>376</th>\n",
       "      <td>376</td>\n",
       "      <td>16.27</td>\n",
       "      <td>141</td>\n",
       "      <td>60</td>\n",
       "      <td>19</td>\n",
       "      <td>319</td>\n",
       "      <td>92</td>\n",
       "      <td>Good</td>\n",
       "      <td>44</td>\n",
       "      <td>Yes</td>\n",
       "      <td>Yes</td>\n",
       "    </tr>\n",
       "  </tbody>\n",
       "</table>\n",
       "<p>400 rows × 11 columns</p>\n",
       "</div>"
      ],
      "text/plain": [
       "     index  Sales  CompPrice  Income  Advertising  Population  Price  \\\n",
       "174    174   0.00        139      24            0         358    185   \n",
       "106    106   0.16        102      33            0         217    139   \n",
       "165    165   0.37        147      58            7         100    191   \n",
       "143    143   0.53        122      88            7          36    159   \n",
       "57      57   0.91         93      91            0          22    117   \n",
       "..     ...    ...        ...     ...          ...         ...    ...   \n",
       "18      18  13.91        110     110            0         408     68   \n",
       "367    367  14.37         95     106            0         256     53   \n",
       "25      25  14.90        139      32            0         176     82   \n",
       "316    316  15.63        122      36            5         369     72   \n",
       "376    376  16.27        141      60           19         319     92   \n",
       "\n",
       "    ShelveLoc  Age Urban   US  \n",
       "174    Medium   79    No   No  \n",
       "106    Medium   70    No   No  \n",
       "165       Bad   27   Yes  Yes  \n",
       "143       Bad   28   Yes  Yes  \n",
       "57        Bad   75   Yes   No  \n",
       "..        ...  ...   ...  ...  \n",
       "18       Good   46    No  Yes  \n",
       "367      Good   52   Yes   No  \n",
       "25       Good   54    No   No  \n",
       "316      Good   35   Yes  Yes  \n",
       "376      Good   44   Yes  Yes  \n",
       "\n",
       "[400 rows x 11 columns]"
      ]
     },
     "execution_count": 49,
     "metadata": {},
     "output_type": "execute_result"
    }
   ],
   "source": [
    "data_comp.sort_values(\"Sales\")"
   ]
  },
  {
   "cell_type": "markdown",
   "metadata": {},
   "source": [
    "* 여기서 어떻게 비교를 해야할 지 모르겠습니다..."
   ]
  },
  {
   "cell_type": "markdown",
   "metadata": {
    "id": "CPQ4kqneg8SS"
   },
   "source": [
    "### ③ Income"
   ]
  },
  {
   "cell_type": "markdown",
   "metadata": {
    "id": "L5fm0Sbvg8SS"
   },
   "source": [
    "1) 변수의 비즈니스 의미"
   ]
  },
  {
   "cell_type": "markdown",
   "metadata": {
    "id": "iPbPsXVDg8SS"
   },
   "source": [
    "> 각 지역별 평균 소득을 의미합니다."
   ]
  },
  {
   "cell_type": "markdown",
   "metadata": {
    "id": "Rs0N8bWAg8SS"
   },
   "source": [
    "2) 숫자, 범주?"
   ]
  },
  {
   "cell_type": "markdown",
   "metadata": {
    "id": "rG_VYntzg8SS"
   },
   "source": [
    "> 숫자입니다."
   ]
  },
  {
   "cell_type": "markdown",
   "metadata": {
    "id": "RSToMWpcg8ST"
   },
   "source": [
    "3) NaN 존재 유무 및 조치방안"
   ]
  },
  {
   "cell_type": "code",
   "execution_count": 50,
   "metadata": {
    "ExecuteTime": {
     "end_time": "2022-02-14T02:21:19.668746Z",
     "start_time": "2022-02-14T02:21:19.640854Z"
    },
    "id": "SkTQK-79g8ST"
   },
   "outputs": [
    {
     "data": {
      "text/plain": [
       "0"
      ]
     },
     "execution_count": 50,
     "metadata": {},
     "output_type": "execute_result"
    }
   ],
   "source": [
    "income = \"Income\"\n",
    "data[income].isna().sum()"
   ]
  },
  {
   "cell_type": "markdown",
   "metadata": {
    "id": "C8RADJA-g8ST"
   },
   "source": [
    "4) 가변수화 필요 여부"
   ]
  },
  {
   "cell_type": "markdown",
   "metadata": {
    "id": "tzE4o5jEg8ST"
   },
   "source": [
    "> 필요 없다."
   ]
  },
  {
   "cell_type": "markdown",
   "metadata": {
    "ExecuteTime": {
     "end_time": "2022-02-14T02:21:33.911863Z",
     "start_time": "2022-02-14T02:21:33.898847Z"
    }
   },
   "source": [
    "5) 기초통계량(수치화)"
   ]
  },
  {
   "cell_type": "code",
   "execution_count": 52,
   "metadata": {
    "ExecuteTime": {
     "end_time": "2022-02-14T02:21:45.955387Z",
     "start_time": "2022-02-14T02:21:45.925924Z"
    },
    "id": "L0VjCTuBg8ST"
   },
   "outputs": [
    {
     "data": {
      "text/plain": [
       "count    400.000000\n",
       "mean      68.657500\n",
       "std       27.986037\n",
       "min       21.000000\n",
       "25%       42.750000\n",
       "50%       69.000000\n",
       "75%       91.000000\n",
       "max      120.000000\n",
       "Name: Income, dtype: float64"
      ]
     },
     "execution_count": 52,
     "metadata": {},
     "output_type": "execute_result"
    }
   ],
   "source": [
    "data[income].describe()"
   ]
  },
  {
   "cell_type": "markdown",
   "metadata": {
    "id": "f14ITqvkg8ST"
   },
   "source": [
    "6) 분포 확인(시각화)"
   ]
  },
  {
   "cell_type": "code",
   "execution_count": 53,
   "metadata": {
    "ExecuteTime": {
     "end_time": "2022-02-14T02:22:02.247970Z",
     "start_time": "2022-02-14T02:22:01.631001Z"
    },
    "id": "hh3v-EAdg8ST"
   },
   "outputs": [
    {
     "data": {
      "text/plain": [
       "Text(0.5, 1.0, 'Income violinplot')"
      ]
     },
     "execution_count": 53,
     "metadata": {},
     "output_type": "execute_result"
    },
    {
     "data": {
      "image/png": "[encoded data removed]",
      "text/plain": [
       "<Figure size 1440x720 with 4 Axes>"
      ]
     },
     "metadata": {
      "needs_background": "light"
     },
     "output_type": "display_data"
    }
   ],
   "source": [
    "vis = data[income]\n",
    "vis_name = \"Income\"\n",
    "# 히스토그램, 밀도함수, 박스플롯, 바이올린 플롯\n",
    "\n",
    "plt.figure(figsize = (20,10))\n",
    "\n",
    "plt.subplot(2,2,1)\n",
    "plt.hist(vis, bins=16, edgecolor = \"grey\")\n",
    "plt.title(vis_name)\n",
    "\n",
    "plt.subplot(2,2,2)\n",
    "vis.plot(kind=\"kde\")\n",
    "plt.title(vis_name + \" kde\")\n",
    "\n",
    "plt.subplot(2,2,3)\n",
    "plt.boxplot(vis, vert = False)\n",
    "plt.title(vis_name + \" boxplot\")\n",
    "\n",
    "plt.subplot(2,2,4)\n",
    "plt.violinplot(vis, vert = False)\n",
    "plt.title(vis_name + \" violinplot\")"
   ]
  },
  {
   "cell_type": "markdown",
   "metadata": {
    "id": "pC8Hhurag8ST"
   },
   "source": [
    "7) 기초통계량과 분포를 통해서 파악한 내용을 적어 봅시다.\n",
    "\n",
    "보이는 그대로를 넘어, 비즈니스 관점에서 고민하며 적어 봅시다."
   ]
  },
  {
   "cell_type": "markdown",
   "metadata": {
    "id": "qjjP_UpMg8ST"
   },
   "source": [
    "> 밀도적으로 보았을 때 40 ~ 80의 평균 소득을 가지고 있지만 plot으로 보았을 때 전체적으로 비슷한 수입을 보여주는것으로 보인다."
   ]
  },
  {
   "cell_type": "markdown",
   "metadata": {
    "id": "oGaBjzSYg8ch"
   },
   "source": [
    "### ④ Advertising"
   ]
  },
  {
   "cell_type": "markdown",
   "metadata": {
    "id": "25o03_xkg8ci"
   },
   "source": [
    "1) 변수의 비즈니스 의미"
   ]
  },
  {
   "cell_type": "markdown",
   "metadata": {
    "id": "D-kLNRJ_g8ci"
   },
   "source": [
    "> 각 지역 회사의 광고 예산을 확인 할 수 있다."
   ]
  },
  {
   "cell_type": "markdown",
   "metadata": {
    "id": "ZO9JHxzRg8ci"
   },
   "source": [
    "2) 숫자, 범주?"
   ]
  },
  {
   "cell_type": "code",
   "execution_count": 54,
   "metadata": {
    "ExecuteTime": {
     "end_time": "2022-02-14T02:34:51.930833Z",
     "start_time": "2022-02-14T02:34:51.918255Z"
    },
    "id": "n4qePJSlg8ci"
   },
   "outputs": [
    {
     "data": {
      "text/plain": [
       "0      11\n",
       "1      16\n",
       "2      10\n",
       "3       4\n",
       "4       3\n",
       "       ..\n",
       "395    17\n",
       "396     3\n",
       "397    12\n",
       "398     7\n",
       "399     0\n",
       "Name: Advertising, Length: 400, dtype: int64"
      ]
     },
     "execution_count": 54,
     "metadata": {},
     "output_type": "execute_result"
    }
   ],
   "source": [
    "adv = \"Advertising\"\n",
    "\n",
    "data[adv]"
   ]
  },
  {
   "cell_type": "markdown",
   "metadata": {
    "id": "FDww-60Tg8ci"
   },
   "source": [
    "> 숫자형이다"
   ]
  },
  {
   "cell_type": "markdown",
   "metadata": {
    "id": "RU4VtFJSg8ci"
   },
   "source": [
    "\n",
    "3) NaN 존재 유무 및 조치방안"
   ]
  },
  {
   "cell_type": "code",
   "execution_count": 55,
   "metadata": {
    "ExecuteTime": {
     "end_time": "2022-02-14T02:35:18.934764Z",
     "start_time": "2022-02-14T02:35:18.903946Z"
    }
   },
   "outputs": [
    {
     "data": {
      "text/plain": [
       "0"
      ]
     },
     "execution_count": 55,
     "metadata": {},
     "output_type": "execute_result"
    }
   ],
   "source": [
    "data[adv].isna().sum()"
   ]
  },
  {
   "cell_type": "markdown",
   "metadata": {
    "id": "GcVv9H_Cg8ci"
   },
   "source": [
    "4) 가변수화 필요 여부"
   ]
  },
  {
   "cell_type": "markdown",
   "metadata": {
    "ExecuteTime": {
     "end_time": "2022-02-14T02:35:24.884054Z",
     "start_time": "2022-02-14T02:35:24.857040Z"
    },
    "id": "fRGaF70cg8ci"
   },
   "source": [
    "> 필요없다.\n",
    "\n"
   ]
  },
  {
   "cell_type": "markdown",
   "metadata": {
    "id": "-1vbjr3Sg8cj"
   },
   "source": [
    "5) 기초통계량(수치화)"
   ]
  },
  {
   "cell_type": "code",
   "execution_count": 57,
   "metadata": {
    "ExecuteTime": {
     "end_time": "2022-02-14T02:35:36.922465Z",
     "start_time": "2022-02-14T02:35:36.892784Z"
    }
   },
   "outputs": [
    {
     "data": {
      "text/plain": [
       "count    400.000000\n",
       "mean       6.635000\n",
       "std        6.650364\n",
       "min        0.000000\n",
       "25%        0.000000\n",
       "50%        5.000000\n",
       "75%       12.000000\n",
       "max       29.000000\n",
       "Name: Advertising, dtype: float64"
      ]
     },
     "execution_count": 57,
     "metadata": {},
     "output_type": "execute_result"
    }
   ],
   "source": [
    "data[adv].describe()"
   ]
  },
  {
   "cell_type": "markdown",
   "metadata": {
    "id": "33VRz7npg8cj"
   },
   "source": [
    "6) 분포 확인(시각화)"
   ]
  },
  {
   "cell_type": "code",
   "execution_count": 58,
   "metadata": {
    "ExecuteTime": {
     "end_time": "2022-02-14T02:35:50.253970Z",
     "start_time": "2022-02-14T02:35:49.636999Z"
    },
    "id": "cy7xftyig8cj"
   },
   "outputs": [
    {
     "data": {
      "text/plain": [
       "Text(0.5, 1.0, 'Advertising violinplot')"
      ]
     },
     "execution_count": 58,
     "metadata": {},
     "output_type": "execute_result"
    },
    {
     "data": {
      "image/png": "[encoded data removed]",
      "text/plain": [
       "<Figure size 1440x720 with 4 Axes>"
      ]
     },
     "metadata": {
      "needs_background": "light"
     },
     "output_type": "display_data"
    }
   ],
   "source": [
    "vis = data[adv]\n",
    "vis_name = \"Advertising\"\n",
    "# 히스토그램, 밀도함수, 박스플롯, 바이올린 플롯\n",
    "\n",
    "plt.figure(figsize = (20,10))\n",
    "\n",
    "plt.subplot(2,2,1)\n",
    "plt.hist(vis, bins=16, edgecolor = \"grey\")\n",
    "plt.title(vis_name)\n",
    "\n",
    "plt.subplot(2,2,2)\n",
    "vis.plot(kind=\"kde\")\n",
    "plt.title(vis_name + \" kde\")\n",
    "\n",
    "plt.subplot(2,2,3)\n",
    "plt.boxplot(vis, vert = False)\n",
    "plt.title(vis_name + \" boxplot\")\n",
    "\n",
    "plt.subplot(2,2,4)\n",
    "plt.violinplot(vis, vert = False)\n",
    "plt.title(vis_name + \" violinplot\")"
   ]
  },
  {
   "cell_type": "markdown",
   "metadata": {
    "id": "D0t41lFTg8cj"
   },
   "source": [
    "7) 기초통계량과 분포를 통해서 파악한 내용을 적어 봅시다.\n",
    "\n",
    "보이는 그대로를 넘어, 비즈니스 관점에서 고민하며 적어 봅시다."
   ]
  },
  {
   "cell_type": "markdown",
   "metadata": {
    "id": "1RbooC0cg8cj"
   },
   "source": [
    "- 광고 예산이 적은 곳들이 은근 많다.\n",
    "- 없는곳과 있는곳과의 판매액이 달라지는지 확인을 해보고 싶다.\n",
    "- 만약 의미가 유의미하게 나지 않는다면 광고에 잘못 돈을 쓰인다고 생각할 수 있다."
   ]
  },
  {
   "cell_type": "markdown",
   "metadata": {
    "id": "Pf9iFSXpg8mZ"
   },
   "source": [
    "### ⑤ Population"
   ]
  },
  {
   "cell_type": "markdown",
   "metadata": {
    "id": "LykFGDb6g8mZ"
   },
   "source": [
    "1) 변수의 비즈니스 의미"
   ]
  },
  {
   "cell_type": "markdown",
   "metadata": {
    "id": "WI28ZJpzg8mZ"
   },
   "source": [
    "> 지역 인구수"
   ]
  },
  {
   "cell_type": "markdown",
   "metadata": {
    "id": "-u074NL4g8ma"
   },
   "source": [
    "2) 숫자, 범주?"
   ]
  },
  {
   "cell_type": "code",
   "execution_count": 59,
   "metadata": {
    "ExecuteTime": {
     "end_time": "2022-02-14T04:56:29.940959Z",
     "start_time": "2022-02-14T04:56:29.890839Z"
    },
    "id": "x2FWVpOHg8ma"
   },
   "outputs": [
    {
     "data": {
      "text/plain": [
       "0      276\n",
       "1      260\n",
       "2      269\n",
       "3      466\n",
       "4      340\n",
       "      ... \n",
       "395    203\n",
       "396     37\n",
       "397    368\n",
       "398    284\n",
       "399     27\n",
       "Name: Population, Length: 400, dtype: int64"
      ]
     },
     "execution_count": 59,
     "metadata": {},
     "output_type": "execute_result"
    }
   ],
   "source": [
    "pop = \"Population\"\n",
    "data[pop]"
   ]
  },
  {
   "cell_type": "markdown",
   "metadata": {
    "id": "nJfltMiag8ma"
   },
   "source": [
    "> 숫자형"
   ]
  },
  {
   "cell_type": "markdown",
   "metadata": {
    "id": "qccdnuYUg8ma"
   },
   "source": [
    "3) NaN 존재 유무 및 조치방안"
   ]
  },
  {
   "cell_type": "code",
   "execution_count": 60,
   "metadata": {
    "ExecuteTime": {
     "end_time": "2022-02-14T04:56:45.943696Z",
     "start_time": "2022-02-14T04:56:45.916403Z"
    },
    "id": "m_wIuVIlg8ma"
   },
   "outputs": [
    {
     "data": {
      "text/plain": [
       "0"
      ]
     },
     "execution_count": 60,
     "metadata": {},
     "output_type": "execute_result"
    }
   ],
   "source": [
    "data[pop].isna().sum()"
   ]
  },
  {
   "cell_type": "markdown",
   "metadata": {
    "id": "oOWxt60gg8ma"
   },
   "source": [
    "4) 가변수화 필요 여부"
   ]
  },
  {
   "cell_type": "markdown",
   "metadata": {
    "id": "78Oa5aAZg8ma"
   },
   "source": [
    "> 없다"
   ]
  },
  {
   "cell_type": "markdown",
   "metadata": {
    "id": "1rKqaZXLg8ma"
   },
   "source": [
    "5) 기초통계량(수치화)"
   ]
  },
  {
   "cell_type": "code",
   "execution_count": 61,
   "metadata": {
    "ExecuteTime": {
     "end_time": "2022-02-14T05:30:24.896617Z",
     "start_time": "2022-02-14T05:30:24.870746Z"
    },
    "id": "GrBmWL4jg8ma"
   },
   "outputs": [
    {
     "data": {
      "text/plain": [
       "count    400.000000\n",
       "mean     264.840000\n",
       "std      147.376436\n",
       "min       10.000000\n",
       "25%      139.000000\n",
       "50%      272.000000\n",
       "75%      398.500000\n",
       "max      509.000000\n",
       "Name: Population, dtype: float64"
      ]
     },
     "execution_count": 61,
     "metadata": {},
     "output_type": "execute_result"
    }
   ],
   "source": [
    "data[pop].describe()"
   ]
  },
  {
   "cell_type": "markdown",
   "metadata": {
    "id": "zovDrpUyg8ma"
   },
   "source": [
    "6) 분포 확인(시각화)"
   ]
  },
  {
   "cell_type": "code",
   "execution_count": 62,
   "metadata": {
    "ExecuteTime": {
     "end_time": "2022-02-14T05:30:50.082852Z",
     "start_time": "2022-02-14T05:30:48.925676Z"
    },
    "id": "YWfV9Jvig8ma"
   },
   "outputs": [
    {
     "data": {
      "text/plain": [
       "Text(0.5, 1.0, 'Population violinplot')"
      ]
     },
     "execution_count": 62,
     "metadata": {},
     "output_type": "execute_result"
    },
    {
     "data": {
      "image/png": "[encoded data removed]",
      "text/plain": [
       "<Figure size 1440x720 with 4 Axes>"
      ]
     },
     "metadata": {
      "needs_background": "light"
     },
     "output_type": "display_data"
    }
   ],
   "source": [
    "vis = data[pop]\n",
    "vis_name = \"Population\"\n",
    "# 히스토그램, 밀도함수, 박스플롯, 바이올린 플롯\n",
    "\n",
    "plt.figure(figsize = (20,10))\n",
    "\n",
    "plt.subplot(2,2,1)\n",
    "plt.hist(vis, bins=16, edgecolor = \"grey\")\n",
    "plt.title(vis_name)\n",
    "\n",
    "plt.subplot(2,2,2)\n",
    "vis.plot(kind=\"kde\")\n",
    "plt.title(vis_name + \" kde\")\n",
    "\n",
    "plt.subplot(2,2,3)\n",
    "plt.boxplot(vis, vert = False)\n",
    "plt.title(vis_name + \" boxplot\")\n",
    "\n",
    "plt.subplot(2,2,4)\n",
    "plt.violinplot(vis, vert = False)\n",
    "plt.title(vis_name + \" violinplot\")"
   ]
  },
  {
   "cell_type": "markdown",
   "metadata": {
    "id": "uko6RMgqg8ma"
   },
   "source": [
    "7) 기초통계량과 분포를 통해서 파악한 내용을 적어 봅시다.\n",
    "\n",
    "보이는 그대로를 넘어, 비즈니스 관점에서 고민하며 적어 봅시다."
   ]
  },
  {
   "cell_type": "markdown",
   "metadata": {
    "id": "VrPyXAENg8mb"
   },
   "source": [
    "> 인구값은 다들 비슷하다."
   ]
  },
  {
   "cell_type": "markdown",
   "metadata": {
    "id": "-MNN7Zplg8wC"
   },
   "source": [
    "### ⑥ Price"
   ]
  },
  {
   "cell_type": "markdown",
   "metadata": {
    "id": "kz0TjZxag8wC"
   },
   "source": [
    "> 자사 지역별 판매가격"
   ]
  },
  {
   "cell_type": "markdown",
   "metadata": {
    "id": "dPmnnDrTg8wC"
   },
   "source": [
    "1) 변수의 비즈니스 의미"
   ]
  },
  {
   "cell_type": "code",
   "execution_count": 63,
   "metadata": {
    "ExecuteTime": {
     "end_time": "2022-02-14T05:49:49.706616Z",
     "start_time": "2022-02-14T05:49:49.678500Z"
    },
    "id": "ilID_DSSg8wC"
   },
   "outputs": [
    {
     "data": {
      "text/plain": [
       "0      120\n",
       "1       83\n",
       "2       80\n",
       "3       97\n",
       "4      128\n",
       "      ... \n",
       "395    128\n",
       "396    120\n",
       "397    159\n",
       "398     95\n",
       "399    120\n",
       "Name: Price, Length: 400, dtype: int64"
      ]
     },
     "execution_count": 63,
     "metadata": {},
     "output_type": "execute_result"
    }
   ],
   "source": [
    "price = \"Price\"\n",
    "data[price]"
   ]
  },
  {
   "cell_type": "markdown",
   "metadata": {
    "id": "GVNdlKwTg8wC"
   },
   "source": [
    "2) 숫자, 범주?"
   ]
  },
  {
   "cell_type": "markdown",
   "metadata": {
    "id": "9aCnSVSrg8wC"
   },
   "source": [
    "> 숫자형"
   ]
  },
  {
   "cell_type": "markdown",
   "metadata": {
    "id": "6LJrEfxjg8wC"
   },
   "source": [
    "3) NaN 존재 유무 및 조치방안"
   ]
  },
  {
   "cell_type": "code",
   "execution_count": 64,
   "metadata": {
    "ExecuteTime": {
     "end_time": "2022-02-14T05:58:33.917876Z",
     "start_time": "2022-02-14T05:58:33.905843Z"
    },
    "id": "BBRhoDHEg8wC"
   },
   "outputs": [
    {
     "data": {
      "text/plain": [
       "0"
      ]
     },
     "execution_count": 64,
     "metadata": {},
     "output_type": "execute_result"
    }
   ],
   "source": [
    "data[price].isna().sum()"
   ]
  },
  {
   "cell_type": "markdown",
   "metadata": {
    "id": "nj5u-bTag8wC"
   },
   "source": [
    "4) 가변수화 필요 여부"
   ]
  },
  {
   "cell_type": "markdown",
   "metadata": {
    "id": "aMLQxYaUg8wC"
   },
   "source": [
    "> 필요없다."
   ]
  },
  {
   "cell_type": "markdown",
   "metadata": {
    "id": "40u6vHYNg8wD"
   },
   "source": [
    "5) 기초통계량(수치화)"
   ]
  },
  {
   "cell_type": "code",
   "execution_count": 65,
   "metadata": {
    "ExecuteTime": {
     "end_time": "2022-02-14T05:58:51.960897Z",
     "start_time": "2022-02-14T05:58:51.933935Z"
    },
    "id": "pzl8eupng8wD"
   },
   "outputs": [
    {
     "data": {
      "text/plain": [
       "count    400.000000\n",
       "mean     115.795000\n",
       "std       23.676664\n",
       "min       24.000000\n",
       "25%      100.000000\n",
       "50%      117.000000\n",
       "75%      131.000000\n",
       "max      191.000000\n",
       "Name: Price, dtype: float64"
      ]
     },
     "execution_count": 65,
     "metadata": {},
     "output_type": "execute_result"
    }
   ],
   "source": [
    "data[price].describe()"
   ]
  },
  {
   "cell_type": "markdown",
   "metadata": {
    "id": "S5ErW3v7g8wD"
   },
   "source": [
    "6) 분포 확인(시각화)"
   ]
  },
  {
   "cell_type": "code",
   "execution_count": 66,
   "metadata": {
    "ExecuteTime": {
     "end_time": "2022-02-14T05:59:07.469980Z",
     "start_time": "2022-02-14T05:59:06.895552Z"
    },
    "id": "UfE0p7Uhg8wD"
   },
   "outputs": [
    {
     "data": {
      "text/plain": [
       "Text(0.5, 1.0, 'Price violinplot')"
      ]
     },
     "execution_count": 66,
     "metadata": {},
     "output_type": "execute_result"
    },
    {
     "data": {
      "image/png": "[encoded data removed]",
      "text/plain": [
       "<Figure size 1440x720 with 4 Axes>"
      ]
     },
     "metadata": {
      "needs_background": "light"
     },
     "output_type": "display_data"
    }
   ],
   "source": [
    "vis = data[price]\n",
    "vis_name = \"Price\"\n",
    "# 히스토그램, 밀도함수, 박스플롯, 바이올린 플롯\n",
    "\n",
    "plt.figure(figsize = (20,10))\n",
    "\n",
    "plt.subplot(2,2,1)\n",
    "plt.hist(vis, bins=16, edgecolor = \"grey\")\n",
    "plt.title(vis_name)\n",
    "\n",
    "plt.subplot(2,2,2)\n",
    "vis.plot(kind=\"kde\")\n",
    "plt.title(vis_name + \" kde\")\n",
    "\n",
    "plt.subplot(2,2,3)\n",
    "plt.boxplot(vis, vert = False)\n",
    "plt.title(vis_name + \" boxplot\")\n",
    "\n",
    "plt.subplot(2,2,4)\n",
    "plt.violinplot(vis, vert = False)\n",
    "plt.title(vis_name + \" violinplot\")"
   ]
  },
  {
   "cell_type": "markdown",
   "metadata": {
    "id": "PakQk8JHg8wD"
   },
   "source": [
    "7) 기초통계량과 분포를 통해서 파악한 내용을 적어 봅시다.\n",
    "\n",
    "보이는 그대로를 넘어, 비즈니스 관점에서 고민하며 적어 봅시다."
   ]
  },
  {
   "cell_type": "markdown",
   "metadata": {
    "id": "vKXwIhrXg8wD"
   },
   "source": [
    "> 판매가격이 너무 낮아도 많이 팔리지 않았다."
   ]
  },
  {
   "cell_type": "markdown",
   "metadata": {
    "id": "m5zcg9CCg86m"
   },
   "source": [
    "### ⑦ ShelveLoc"
   ]
  },
  {
   "cell_type": "markdown",
   "metadata": {
    "id": "dJBrJUmGg86n"
   },
   "source": [
    "1) 변수의 비즈니스 의미"
   ]
  },
  {
   "cell_type": "markdown",
   "metadata": {
    "id": "3gtWFDYqg86n"
   },
   "source": [
    "> 진열 상태를 볼 수 있다."
   ]
  },
  {
   "cell_type": "markdown",
   "metadata": {
    "id": "m1svuzVXg86n"
   },
   "source": [
    "2) 숫자, 범주?"
   ]
  },
  {
   "cell_type": "code",
   "execution_count": 67,
   "metadata": {
    "ExecuteTime": {
     "end_time": "2022-02-14T06:13:52.660550Z",
     "start_time": "2022-02-14T06:13:52.632383Z"
    },
    "id": "qYqLLkCPg86n"
   },
   "outputs": [
    {
     "data": {
      "text/plain": [
       "0         Bad\n",
       "1        Good\n",
       "2      Medium\n",
       "3      Medium\n",
       "4         Bad\n",
       "        ...  \n",
       "395      Good\n",
       "396    Medium\n",
       "397    Medium\n",
       "398       Bad\n",
       "399      Good\n",
       "Name: ShelveLoc, Length: 400, dtype: object"
      ]
     },
     "execution_count": 67,
     "metadata": {},
     "output_type": "execute_result"
    }
   ],
   "source": [
    "shelve = \"ShelveLoc\"\n",
    "data[shelve]"
   ]
  },
  {
   "cell_type": "markdown",
   "metadata": {
    "id": "-OijtYKng86n"
   },
   "source": [
    "> 범주형이다.\n",
    "\n"
   ]
  },
  {
   "cell_type": "markdown",
   "metadata": {
    "ExecuteTime": {
     "end_time": "2022-02-14T06:14:04.713269Z",
     "start_time": "2022-02-14T06:14:04.700202Z"
    },
    "id": "R6sOS918g86n"
   },
   "source": [
    "3) NaN 존재 유무 및 조치방안"
   ]
  },
  {
   "cell_type": "code",
   "execution_count": 70,
   "metadata": {
    "ExecuteTime": {
     "end_time": "2022-02-14T06:14:33.930243Z",
     "start_time": "2022-02-14T06:14:33.916243Z"
    }
   },
   "outputs": [
    {
     "data": {
      "text/plain": [
       "0"
      ]
     },
     "execution_count": 70,
     "metadata": {},
     "output_type": "execute_result"
    }
   ],
   "source": [
    "data[shelve].isna().sum()"
   ]
  },
  {
   "cell_type": "markdown",
   "metadata": {},
   "source": [
    "> 없다."
   ]
  },
  {
   "cell_type": "markdown",
   "metadata": {
    "id": "J7LX6lUsg86n"
   },
   "source": [
    "4) 가변수화 필요 여부"
   ]
  },
  {
   "cell_type": "markdown",
   "metadata": {
    "id": "AIlEVEg6g86n"
   },
   "source": [
    "> 필요하다."
   ]
  },
  {
   "cell_type": "markdown",
   "metadata": {
    "id": "oBh8J1tDg86n"
   },
   "source": [
    "5) 기초통계량(수치화)"
   ]
  },
  {
   "cell_type": "code",
   "execution_count": 71,
   "metadata": {
    "ExecuteTime": {
     "end_time": "2022-02-14T06:39:54.883386Z",
     "start_time": "2022-02-14T06:39:54.854403Z"
    },
    "id": "dED5nK77g86n"
   },
   "outputs": [
    {
     "name": "stdout",
     "output_type": "stream",
     "text": [
      "Medium    219\n",
      "Bad        96\n",
      "Good       85\n",
      "Name: ShelveLoc, dtype: int64\n",
      "Medium    0.5475\n",
      "Bad       0.2400\n",
      "Good      0.2125\n",
      "Name: ShelveLoc, dtype: float64\n"
     ]
    }
   ],
   "source": [
    "print(data[shelve].value_counts())\n",
    "print(data[shelve].value_counts()/ len(data[shelve]))"
   ]
  },
  {
   "cell_type": "markdown",
   "metadata": {
    "id": "bNLC1NHRg86n"
   },
   "source": [
    "6) 분포 확인(시각화)"
   ]
  },
  {
   "cell_type": "code",
   "execution_count": 72,
   "metadata": {
    "ExecuteTime": {
     "end_time": "2022-02-14T06:40:10.025097Z",
     "start_time": "2022-02-14T06:40:09.871582Z"
    },
    "id": "MVney2yog86n"
   },
   "outputs": [
    {
     "name": "stderr",
     "output_type": "stream",
     "text": [
      "C:\\Users\\User\\anaconda3\\lib\\site-packages\\seaborn\\_decorators.py:36: FutureWarning: Pass the following variable as a keyword arg: x. From version 0.12, the only valid positional argument will be `data`, and passing other arguments without an explicit keyword will result in an error or misinterpretation.\n",
      "  warnings.warn(\n"
     ]
    },
    {
     "data": {
      "image/png": "[encoded data removed]",
      "text/plain": [
       "<Figure size 432x288 with 1 Axes>"
      ]
     },
     "metadata": {
      "needs_background": "light"
     },
     "output_type": "display_data"
    }
   ],
   "source": [
    "sns.countplot(data[shelve])\n",
    "plt.show()"
   ]
  },
  {
   "cell_type": "markdown",
   "metadata": {
    "id": "jJMtVG7Og86o"
   },
   "source": [
    "7) 기초통계량과 분포를 통해서 파악한 내용을 적어 봅시다.\n",
    "\n",
    "보이는 그대로를 넘어, 비즈니스 관점에서 고민하며 적어 봅시다."
   ]
  },
  {
   "cell_type": "markdown",
   "metadata": {
    "id": "2Tet6DMNg86o"
   },
   "source": [
    "> 진열 상태가 너무 좋아도 왜 많이 안팔리는것일까?"
   ]
  },
  {
   "cell_type": "markdown",
   "metadata": {
    "id": "9sLeiF5Kg9EO"
   },
   "source": [
    "### ⑧ Age"
   ]
  },
  {
   "cell_type": "markdown",
   "metadata": {
    "id": "OwXbdhiPg9EO"
   },
   "source": [
    "1) 변수의 비즈니스 의미"
   ]
  },
  {
   "cell_type": "markdown",
   "metadata": {
    "id": "RHXdVcPLg9EO"
   },
   "source": [
    "> 지역 인구의 평균 연령"
   ]
  },
  {
   "cell_type": "markdown",
   "metadata": {
    "id": "fbWLrevGg9EO"
   },
   "source": [
    "2) 숫자, 범주?"
   ]
  },
  {
   "cell_type": "code",
   "execution_count": 73,
   "metadata": {
    "ExecuteTime": {
     "end_time": "2022-02-14T06:42:36.945932Z",
     "start_time": "2022-02-14T06:42:36.918330Z"
    },
    "id": "feZUN5ZEg9EO"
   },
   "outputs": [
    {
     "data": {
      "text/plain": [
       "0      42\n",
       "1      65\n",
       "2      59\n",
       "3      55\n",
       "4      38\n",
       "       ..\n",
       "395    33\n",
       "396    55\n",
       "397    40\n",
       "398    50\n",
       "399    49\n",
       "Name: Age, Length: 400, dtype: int64"
      ]
     },
     "execution_count": 73,
     "metadata": {},
     "output_type": "execute_result"
    }
   ],
   "source": [
    "age = \"Age\"\n",
    "data[age]"
   ]
  },
  {
   "cell_type": "markdown",
   "metadata": {
    "id": "SxVZXwuFg9EP"
   },
   "source": [
    "> 숫자형이다."
   ]
  },
  {
   "cell_type": "markdown",
   "metadata": {
    "id": "Fn2lu70gg9EP"
   },
   "source": [
    "3) NaN 존재 유무 및 조치방안"
   ]
  },
  {
   "cell_type": "code",
   "execution_count": 74,
   "metadata": {
    "ExecuteTime": {
     "end_time": "2022-02-14T06:42:59.876012Z",
     "start_time": "2022-02-14T06:42:59.862569Z"
    },
    "id": "jgnZjsBSg9EP"
   },
   "outputs": [
    {
     "data": {
      "text/plain": [
       "0"
      ]
     },
     "execution_count": 74,
     "metadata": {},
     "output_type": "execute_result"
    }
   ],
   "source": [
    "data[age].isna().sum()"
   ]
  },
  {
   "cell_type": "markdown",
   "metadata": {
    "id": "144W55l0g9EP"
   },
   "source": [
    "4) 가변수화 필요 여부"
   ]
  },
  {
   "cell_type": "markdown",
   "metadata": {
    "id": "2Ut_VYlhg9EP"
   },
   "source": [
    "> 10대 20대로 나누면 좀 더 보기 편할 것 같다."
   ]
  },
  {
   "cell_type": "markdown",
   "metadata": {
    "id": "HDFDDUk0g9EP"
   },
   "source": [
    "5) 기초통계량(수치화)"
   ]
  },
  {
   "cell_type": "code",
   "execution_count": 75,
   "metadata": {
    "ExecuteTime": {
     "end_time": "2022-02-14T06:45:06.937939Z",
     "start_time": "2022-02-14T06:45:06.908631Z"
    },
    "id": "4ftZ4vQgg9EP"
   },
   "outputs": [
    {
     "data": {
      "text/plain": [
       "count    400.000000\n",
       "mean      53.322500\n",
       "std       16.200297\n",
       "min       25.000000\n",
       "25%       39.750000\n",
       "50%       54.500000\n",
       "75%       66.000000\n",
       "max       80.000000\n",
       "Name: Age, dtype: float64"
      ]
     },
     "execution_count": 75,
     "metadata": {},
     "output_type": "execute_result"
    }
   ],
   "source": [
    "data[age].describe()"
   ]
  },
  {
   "cell_type": "markdown",
   "metadata": {},
   "source": [
    "5-1) 10대, 20대로 나누어보자\n",
    "- 최소 25세부터 최대 80세까지 존재한다."
   ]
  },
  {
   "cell_type": "code",
   "execution_count": 77,
   "metadata": {
    "ExecuteTime": {
     "end_time": "2022-02-14T07:02:31.700628Z",
     "start_time": "2022-02-14T07:02:31.647066Z"
    }
   },
   "outputs": [
    {
     "data": {
      "text/html": [
       "<div>\n",
       "<style scoped>\n",
       "    .dataframe tbody tr th:only-of-type {\n",
       "        vertical-align: middle;\n",
       "    }\n",
       "\n",
       "    .dataframe tbody tr th {\n",
       "        vertical-align: top;\n",
       "    }\n",
       "\n",
       "    .dataframe thead th {\n",
       "        text-align: right;\n",
       "    }\n",
       "</style>\n",
       "<table border=\"1\" class=\"dataframe\">\n",
       "  <thead>\n",
       "    <tr style=\"text-align: right;\">\n",
       "      <th></th>\n",
       "      <th>Sales</th>\n",
       "      <th>CompPrice</th>\n",
       "      <th>Income</th>\n",
       "      <th>Advertising</th>\n",
       "      <th>Population</th>\n",
       "      <th>Price</th>\n",
       "      <th>ShelveLoc</th>\n",
       "      <th>Age</th>\n",
       "      <th>Urban</th>\n",
       "      <th>US</th>\n",
       "      <th>연령</th>\n",
       "    </tr>\n",
       "  </thead>\n",
       "  <tbody>\n",
       "    <tr>\n",
       "      <th>0</th>\n",
       "      <td>9.50</td>\n",
       "      <td>138</td>\n",
       "      <td>73</td>\n",
       "      <td>11</td>\n",
       "      <td>276</td>\n",
       "      <td>120</td>\n",
       "      <td>Bad</td>\n",
       "      <td>42</td>\n",
       "      <td>Yes</td>\n",
       "      <td>Yes</td>\n",
       "      <td>40대</td>\n",
       "    </tr>\n",
       "    <tr>\n",
       "      <th>1</th>\n",
       "      <td>11.22</td>\n",
       "      <td>111</td>\n",
       "      <td>48</td>\n",
       "      <td>16</td>\n",
       "      <td>260</td>\n",
       "      <td>83</td>\n",
       "      <td>Good</td>\n",
       "      <td>65</td>\n",
       "      <td>Yes</td>\n",
       "      <td>Yes</td>\n",
       "      <td>60대</td>\n",
       "    </tr>\n",
       "    <tr>\n",
       "      <th>2</th>\n",
       "      <td>10.06</td>\n",
       "      <td>113</td>\n",
       "      <td>35</td>\n",
       "      <td>10</td>\n",
       "      <td>269</td>\n",
       "      <td>80</td>\n",
       "      <td>Medium</td>\n",
       "      <td>59</td>\n",
       "      <td>Yes</td>\n",
       "      <td>Yes</td>\n",
       "      <td>50대</td>\n",
       "    </tr>\n",
       "    <tr>\n",
       "      <th>3</th>\n",
       "      <td>7.40</td>\n",
       "      <td>117</td>\n",
       "      <td>100</td>\n",
       "      <td>4</td>\n",
       "      <td>466</td>\n",
       "      <td>97</td>\n",
       "      <td>Medium</td>\n",
       "      <td>55</td>\n",
       "      <td>Yes</td>\n",
       "      <td>Yes</td>\n",
       "      <td>50대</td>\n",
       "    </tr>\n",
       "    <tr>\n",
       "      <th>4</th>\n",
       "      <td>4.15</td>\n",
       "      <td>141</td>\n",
       "      <td>64</td>\n",
       "      <td>3</td>\n",
       "      <td>340</td>\n",
       "      <td>128</td>\n",
       "      <td>Bad</td>\n",
       "      <td>38</td>\n",
       "      <td>Yes</td>\n",
       "      <td>No</td>\n",
       "      <td>30대</td>\n",
       "    </tr>\n",
       "    <tr>\n",
       "      <th>...</th>\n",
       "      <td>...</td>\n",
       "      <td>...</td>\n",
       "      <td>...</td>\n",
       "      <td>...</td>\n",
       "      <td>...</td>\n",
       "      <td>...</td>\n",
       "      <td>...</td>\n",
       "      <td>...</td>\n",
       "      <td>...</td>\n",
       "      <td>...</td>\n",
       "      <td>...</td>\n",
       "    </tr>\n",
       "    <tr>\n",
       "      <th>395</th>\n",
       "      <td>12.57</td>\n",
       "      <td>138</td>\n",
       "      <td>108</td>\n",
       "      <td>17</td>\n",
       "      <td>203</td>\n",
       "      <td>128</td>\n",
       "      <td>Good</td>\n",
       "      <td>33</td>\n",
       "      <td>Yes</td>\n",
       "      <td>Yes</td>\n",
       "      <td>30대</td>\n",
       "    </tr>\n",
       "    <tr>\n",
       "      <th>396</th>\n",
       "      <td>6.14</td>\n",
       "      <td>139</td>\n",
       "      <td>23</td>\n",
       "      <td>3</td>\n",
       "      <td>37</td>\n",
       "      <td>120</td>\n",
       "      <td>Medium</td>\n",
       "      <td>55</td>\n",
       "      <td>No</td>\n",
       "      <td>Yes</td>\n",
       "      <td>50대</td>\n",
       "    </tr>\n",
       "    <tr>\n",
       "      <th>397</th>\n",
       "      <td>7.41</td>\n",
       "      <td>162</td>\n",
       "      <td>26</td>\n",
       "      <td>12</td>\n",
       "      <td>368</td>\n",
       "      <td>159</td>\n",
       "      <td>Medium</td>\n",
       "      <td>40</td>\n",
       "      <td>Yes</td>\n",
       "      <td>Yes</td>\n",
       "      <td>40대</td>\n",
       "    </tr>\n",
       "    <tr>\n",
       "      <th>398</th>\n",
       "      <td>5.94</td>\n",
       "      <td>100</td>\n",
       "      <td>79</td>\n",
       "      <td>7</td>\n",
       "      <td>284</td>\n",
       "      <td>95</td>\n",
       "      <td>Bad</td>\n",
       "      <td>50</td>\n",
       "      <td>Yes</td>\n",
       "      <td>Yes</td>\n",
       "      <td>50대</td>\n",
       "    </tr>\n",
       "    <tr>\n",
       "      <th>399</th>\n",
       "      <td>9.71</td>\n",
       "      <td>134</td>\n",
       "      <td>37</td>\n",
       "      <td>0</td>\n",
       "      <td>27</td>\n",
       "      <td>120</td>\n",
       "      <td>Good</td>\n",
       "      <td>49</td>\n",
       "      <td>Yes</td>\n",
       "      <td>Yes</td>\n",
       "      <td>40대</td>\n",
       "    </tr>\n",
       "  </tbody>\n",
       "</table>\n",
       "<p>400 rows × 11 columns</p>\n",
       "</div>"
      ],
      "text/plain": [
       "     Sales  CompPrice  Income  Advertising  Population  Price ShelveLoc  Age  \\\n",
       "0     9.50        138      73           11         276    120       Bad   42   \n",
       "1    11.22        111      48           16         260     83      Good   65   \n",
       "2    10.06        113      35           10         269     80    Medium   59   \n",
       "3     7.40        117     100            4         466     97    Medium   55   \n",
       "4     4.15        141      64            3         340    128       Bad   38   \n",
       "..     ...        ...     ...          ...         ...    ...       ...  ...   \n",
       "395  12.57        138     108           17         203    128      Good   33   \n",
       "396   6.14        139      23            3          37    120    Medium   55   \n",
       "397   7.41        162      26           12         368    159    Medium   40   \n",
       "398   5.94        100      79            7         284     95       Bad   50   \n",
       "399   9.71        134      37            0          27    120      Good   49   \n",
       "\n",
       "    Urban   US   연령  \n",
       "0     Yes  Yes  40대  \n",
       "1     Yes  Yes  60대  \n",
       "2     Yes  Yes  50대  \n",
       "3     Yes  Yes  50대  \n",
       "4     Yes   No  30대  \n",
       "..    ...  ...  ...  \n",
       "395   Yes  Yes  30대  \n",
       "396    No  Yes  50대  \n",
       "397   Yes  Yes  40대  \n",
       "398   Yes  Yes  50대  \n",
       "399   Yes  Yes  40대  \n",
       "\n",
       "[400 rows x 11 columns]"
      ]
     },
     "execution_count": 77,
     "metadata": {},
     "output_type": "execute_result"
    }
   ],
   "source": [
    "bin = [0,30, 40,50,60,70,np.inf]\n",
    "labels = [\"30세 미만\", \"30대\" ,\"40대\", \"50대\", \"60대\", \"70세 이상\"]\n",
    "data[\"연령\"] = pd.cut(data[age], bins = bin, right=False, labels = labels)\n",
    "data"
   ]
  },
  {
   "cell_type": "markdown",
   "metadata": {
    "id": "MeNxGtUrg9EP"
   },
   "source": [
    "6) 분포 확인(시각화)"
   ]
  },
  {
   "cell_type": "code",
   "execution_count": 80,
   "metadata": {
    "ExecuteTime": {
     "end_time": "2022-02-14T07:04:28.114697Z",
     "start_time": "2022-02-14T07:04:27.915921Z"
    },
    "id": "OTPBtQKKg9EP"
   },
   "outputs": [
    {
     "data": {
      "text/plain": [
       "<AxesSubplot:xlabel='연령', ylabel='count'>"
      ]
     },
     "execution_count": 80,
     "metadata": {},
     "output_type": "execute_result"
    },
    {
     "data": {
      "image/png": "[encoded data removed]",
      "text/plain": [
       "<Figure size 432x288 with 1 Axes>"
      ]
     },
     "metadata": {
      "needs_background": "light"
     },
     "output_type": "display_data"
    }
   ],
   "source": [
    "sns.countplot(data[\"연령\"])"
   ]
  },
  {
   "cell_type": "markdown",
   "metadata": {
    "id": "6HOl7KCRg9EP"
   },
   "source": [
    "7) 기초통계량과 분포를 통해서 파악한 내용을 적어 봅시다.\n",
    "\n",
    "보이는 그대로를 넘어, 비즈니스 관점에서 고민하며 적어 봅시다."
   ]
  },
  {
   "cell_type": "markdown",
   "metadata": {
    "id": "5vV_d6Fyg9EP"
   },
   "source": [
    "- 대부분 30대 이상이라고 보면 되는것 같은데 은근 6 70대이상도 많은것을 확인할 수 있었다."
   ]
  },
  {
   "cell_type": "markdown",
   "metadata": {
    "id": "GmxZa7uvhyXO"
   },
   "source": [
    "### ⑨ Urban"
   ]
  },
  {
   "cell_type": "markdown",
   "metadata": {
    "id": "pgE9cYEfhyXP"
   },
   "source": [
    "1) 변수의 비즈니스 의미"
   ]
  },
  {
   "cell_type": "markdown",
   "metadata": {
    "id": "ViF2ygvShyXP"
   },
   "source": [
    "> 도심 지역인지 아닌지 0, 1로 구분해놓은 것"
   ]
  },
  {
   "cell_type": "markdown",
   "metadata": {
    "id": "U9d2egLKhyXP"
   },
   "source": [
    "2) 숫자, 범주?"
   ]
  },
  {
   "cell_type": "markdown",
   "metadata": {
    "id": "EcIIpu-HhyXP"
   },
   "source": [
    "> 범주형이다.\n"
   ]
  },
  {
   "cell_type": "markdown",
   "metadata": {
    "id": "rGqiRGiHhyXQ"
   },
   "source": [
    "3) NaN 존재 유무 및 조치방안"
   ]
  },
  {
   "cell_type": "code",
   "execution_count": 81,
   "metadata": {
    "ExecuteTime": {
     "end_time": "2022-02-14T08:02:27.937348Z",
     "start_time": "2022-02-14T08:02:27.912434Z"
    },
    "id": "TcpuOqakhyXQ"
   },
   "outputs": [
    {
     "data": {
      "text/plain": [
       "0"
      ]
     },
     "execution_count": 81,
     "metadata": {},
     "output_type": "execute_result"
    }
   ],
   "source": [
    "urban = \"Urban\"\n",
    "data[urban].isna().sum()"
   ]
  },
  {
   "cell_type": "markdown",
   "metadata": {
    "id": "NZUB38p3hyXQ"
   },
   "source": [
    "4) 가변수화 필요 여부"
   ]
  },
  {
   "cell_type": "markdown",
   "metadata": {
    "id": "STmIwDP4hyXQ"
   },
   "source": [
    "> 이미 0, 1로되어있으므로 가변수화는 필요없다."
   ]
  },
  {
   "cell_type": "markdown",
   "metadata": {
    "id": "pnv202kchyXQ"
   },
   "source": [
    "5) 기초통계량(수치화)"
   ]
  },
  {
   "cell_type": "code",
   "execution_count": 82,
   "metadata": {
    "ExecuteTime": {
     "end_time": "2022-02-14T08:03:06.917307Z",
     "start_time": "2022-02-14T08:03:06.904143Z"
    },
    "id": "2U9dT66-hyXQ"
   },
   "outputs": [
    {
     "name": "stdout",
     "output_type": "stream",
     "text": [
      "Yes    282\n",
      "No     118\n",
      "Name: Urban, dtype: int64\n",
      "Yes    0.705\n",
      "No     0.295\n",
      "Name: Urban, dtype: float64\n"
     ]
    }
   ],
   "source": [
    "print(data[urban].value_counts())\n",
    "print(data[urban].value_counts()/ len(data[urban]))"
   ]
  },
  {
   "cell_type": "markdown",
   "metadata": {
    "id": "DCFaup0-hyXQ"
   },
   "source": [
    "6) 분포 확인(시각화)"
   ]
  },
  {
   "cell_type": "code",
   "execution_count": 83,
   "metadata": {
    "ExecuteTime": {
     "end_time": "2022-02-14T08:03:22.044116Z",
     "start_time": "2022-02-14T08:03:21.905986Z"
    },
    "id": "AKqKmQv5hyXQ"
   },
   "outputs": [
    {
     "data": {
      "image/png": "[encoded data removed]",
      "text/plain": [
       "<Figure size 432x288 with 1 Axes>"
      ]
     },
     "metadata": {
      "needs_background": "light"
     },
     "output_type": "display_data"
    }
   ],
   "source": [
    "sns.countplot(data[urban])\n",
    "plt.show()"
   ]
  },
  {
   "cell_type": "markdown",
   "metadata": {
    "id": "mk1xIymFhyXQ"
   },
   "source": [
    "7) 기초통계량과 분포를 통해서 파악한 내용을 적어 봅시다.\n",
    "\n",
    "보이는 그대로를 넘어, 비즈니스 관점에서 고민하며 적어 봅시다."
   ]
  },
  {
   "cell_type": "markdown",
   "metadata": {
    "id": "WHWcEhw-hyXV"
   },
   "source": [
    "> 대부분 도심에 사는 분들이 많은 것을 확인할 수 있다."
   ]
  },
  {
   "cell_type": "markdown",
   "metadata": {
    "id": "ieLyLWqehz_N"
   },
   "source": [
    "### ⑩ US"
   ]
  },
  {
   "cell_type": "markdown",
   "metadata": {
    "id": "XDyTt51thz_N"
   },
   "source": [
    "1) 변수의 비즈니스 의미"
   ]
  },
  {
   "cell_type": "markdown",
   "metadata": {
    "id": "w8dpuN56hz_N"
   },
   "source": [
    "> 매장이 미국에 있는지 없는지 0, 1로 구분해놓은것"
   ]
  },
  {
   "cell_type": "markdown",
   "metadata": {
    "id": "eqVuZ7whhz_N"
   },
   "source": [
    "2) 숫자, 범주?"
   ]
  },
  {
   "cell_type": "markdown",
   "metadata": {
    "id": "XGUi5ntHhz_N"
   },
   "source": [
    "> 범주형이다."
   ]
  },
  {
   "cell_type": "markdown",
   "metadata": {
    "id": "V44RWsPFhz_O"
   },
   "source": [
    "3) NaN 존재 유무 및 조치방안"
   ]
  },
  {
   "cell_type": "code",
   "execution_count": 84,
   "metadata": {
    "ExecuteTime": {
     "end_time": "2022-02-14T08:04:14.894910Z",
     "start_time": "2022-02-14T08:04:14.869676Z"
    },
    "id": "VMA9HBaghz_O"
   },
   "outputs": [
    {
     "data": {
      "text/plain": [
       "0"
      ]
     },
     "execution_count": 84,
     "metadata": {},
     "output_type": "execute_result"
    }
   ],
   "source": [
    "us = \"US\"\n",
    "data[us].isna().sum()"
   ]
  },
  {
   "cell_type": "markdown",
   "metadata": {
    "id": "fGl-MNOjhz_O"
   },
   "source": [
    "4) 가변수화 필요 여부"
   ]
  },
  {
   "cell_type": "markdown",
   "metadata": {
    "id": "5dFqSW0Qhz_O"
   },
   "source": [
    "> 필요없다."
   ]
  },
  {
   "cell_type": "markdown",
   "metadata": {
    "id": "pNse3NxPhz_O"
   },
   "source": [
    "5) 기초통계량(수치화)"
   ]
  },
  {
   "cell_type": "code",
   "execution_count": 85,
   "metadata": {
    "ExecuteTime": {
     "end_time": "2022-02-14T08:04:33.936523Z",
     "start_time": "2022-02-14T08:04:33.909957Z"
    },
    "id": "ZxC2dwoxhz_O"
   },
   "outputs": [
    {
     "name": "stdout",
     "output_type": "stream",
     "text": [
      "Yes    258\n",
      "No     142\n",
      "Name: US, dtype: int64\n",
      "Yes    0.645\n",
      "No     0.355\n",
      "Name: US, dtype: float64\n"
     ]
    }
   ],
   "source": [
    "print(data[us].value_counts())\n",
    "print(data[us].value_counts()/ len(data[us]))"
   ]
  },
  {
   "cell_type": "markdown",
   "metadata": {
    "id": "mPaDd358hz_O"
   },
   "source": [
    "6) 분포 확인(시각화)"
   ]
  },
  {
   "cell_type": "code",
   "execution_count": 86,
   "metadata": {
    "ExecuteTime": {
     "end_time": "2022-02-14T08:04:34.060762Z",
     "start_time": "2022-02-14T08:04:33.939257Z"
    },
    "id": "HNV_pB3whz_O"
   },
   "outputs": [
    {
     "name": "stderr",
     "output_type": "stream",
     "text": [
      "C:\\Users\\User\\anaconda3\\lib\\site-packages\\seaborn\\_decorators.py:36: FutureWarning: Pass the following variable as a keyword arg: x. From version 0.12, the only valid positional argument will be `data`, and passing other arguments without an explicit keyword will result in an error or misinterpretation.\n",
      "  warnings.warn(\n"
     ]
    },
    {
     "data": {
      "image/png": "[encoded data removed]",
      "text/plain": [
       "<Figure size 432x288 with 1 Axes>"
      ]
     },
     "metadata": {
      "needs_background": "light"
     },
     "output_type": "display_data"
    }
   ],
   "source": [
    "sns.countplot(data[us])\n",
    "plt.show()"
   ]
  },
  {
   "cell_type": "markdown",
   "metadata": {
    "id": "gnp_hJExhz_O"
   },
   "source": [
    "7) 기초통계량과 분포를 통해서 파악한 내용을 적어 봅시다.\n",
    "\n",
    "보이는 그대로를 넘어, 비즈니스 관점에서 고민하며 적어 봅시다."
   ]
  },
  {
   "cell_type": "markdown",
   "metadata": {
    "id": "EJZZ9nXwhz_O"
   },
   "source": [
    "> 미국내의 매장이 상당한것을 확인 할 수 있다."
   ]
  }
 ],
 "metadata": {
  "colab": {
   "collapsed_sections": [
    "2KcdJrQNfJCZ",
    "9WGX3Pm8g8HV",
    "CPQ4kqneg8SS",
    "oGaBjzSYg8ch",
    "Pf9iFSXpg8mZ",
    "-MNN7Zplg8wC",
    "m5zcg9CCg86m",
    "9sLeiF5Kg9EO",
    "GmxZa7uvhyXO",
    "ieLyLWqehz_N"
   ],
   "name": "06과 단변량분석 종합실습과제.ipynb",
   "provenance": [],
   "toc_visible": true
  },
  "kernelspec": {
   "display_name": "Python 3 (ipykernel)",
   "language": "python",
   "name": "python3"
  },
  "language_info": {
   "codemirror_mode": {
    "name": "ipython",
    "version": 3
   },
   "file_extension": ".py",
   "mimetype": "text/x-python",
   "name": "python",
   "nbconvert_exporter": "python",
   "pygments_lexer": "ipython3",
   "version": "3.8.8"
  },
  "toc": {
   "base_numbering": 1,
   "nav_menu": {},
   "number_sections": true,
   "sideBar": true,
   "skip_h1_title": false,
   "title_cell": "Table of Contents",
   "title_sidebar": "Contents",
   "toc_cell": false,
   "toc_position": {},
   "toc_section_display": true,
   "toc_window_display": false
  }
 },
 "nbformat": 4,
 "nbformat_minor": 1
}
