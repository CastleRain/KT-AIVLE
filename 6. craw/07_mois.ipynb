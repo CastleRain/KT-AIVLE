{
 "cells": [
  {
   "cell_type": "markdown",
   "metadata": {},
   "source": [
    "### 행정안전부 보도자료 데이터 수집\n",
    "- 정적페이지 데이터 수집 : html : bs, css-selector\n",
    "- post방식\n",
    "- 여러개의 페이지 데이터 수집"
   ]
  },
  {
   "cell_type": "code",
   "execution_count": 1,
   "metadata": {},
   "outputs": [],
   "source": [
    "import pandas as pd\n",
    "import requests\n",
    "from bs4 import BeautifulSoup"
   ]
  },
  {
   "cell_type": "markdown",
   "metadata": {},
   "source": [
    "### 1. 웹 서비스 분석 : url"
   ]
  },
  {
   "cell_type": "markdown",
   "metadata": {},
   "source": [
    "post방식일 떄에는 url이 바뀌지 않는다.  \n",
    "payload 페이지에 있는 내용을 보면 된다.  \n",
    "response를 보면 html코드가 있는것을 확인할 수 있는데 내가 원하는것이 있는지 preview를 통해 시각적으로 보자."
   ]
  },
  {
   "cell_type": "code",
   "execution_count": 2,
   "metadata": {},
   "outputs": [],
   "source": [
    "page = 3\n",
    "url = \"https://www.mois.go.kr/frt/bbs/type010/commonSelectBoardList.do?bbsId=BBSMSTR_000000000008\"\n",
    "\n",
    "params = {\n",
    "    \"nttId\": \"0\",\n",
    "    \"bbsTyCode\": \"BBST03\",\n",
    "    \"bbsAttrbCode\": \"BBSA03\",\n",
    "    \"authFlag\": \"Y\",\n",
    "    \"pageIndex\": page,\n",
    "    \"cal_url\":\" /sym/cal/EgovNormalCalPopup.do\",\n",
    "    \"searchCnd\": \"0\",\n",
    "    \"searchWrd\": \"\",\n",
    "}"
   ]
  },
  {
   "cell_type": "markdown",
   "metadata": {},
   "source": [
    "### 2. request(url) > response : html"
   ]
  },
  {
   "cell_type": "code",
   "execution_count": 3,
   "metadata": {},
   "outputs": [
    {
     "data": {
      "text/plain": [
       "<Response [200]>"
      ]
     },
     "execution_count": 3,
     "metadata": {},
     "output_type": "execute_result"
    }
   ],
   "source": [
    "response = requests.post(url, params)\n",
    "response"
   ]
  },
  {
   "cell_type": "markdown",
   "metadata": {},
   "source": [
    "### 3. html(str) > bs_obj > bs_obj.select(css-selector) > text > DataFrame"
   ]
  },
  {
   "cell_type": "code",
   "execution_count": 4,
   "metadata": {},
   "outputs": [],
   "source": [
    "dom = BeautifulSoup(response.text, 'html.parser')"
   ]
  },
  {
   "cell_type": "code",
   "execution_count": 7,
   "metadata": {},
   "outputs": [
    {
     "data": {
      "text/plain": [
       "10"
      ]
     },
     "execution_count": 7,
     "metadata": {},
     "output_type": "execute_result"
    }
   ],
   "source": [
    "# 게시글 리스트 데이터 선택 : 10개\n",
    "\n",
    "elements = dom.select(\"#print_area > div.table_wrap.type_01 > form > table > tbody > tr\")\n",
    "len(elements)\n"
   ]
  },
  {
   "cell_type": "code",
   "execution_count": null,
   "metadata": {},
   "outputs": [],
   "source": [
    "# 각 데이터에서 필요한 정보 수집"
   ]
  },
  {
   "cell_type": "markdown",
   "metadata": {},
   "source": [
    "element.select(\"td\")[1].select_one(\"a\").get(\"href\")  \n",
    "여기에서 td의 2번째 값을 가져와라 -> 그다음 a tag태그 안에 있는 href 속성을 가져와라는 의미이다."
   ]
  },
  {
   "cell_type": "code",
   "execution_count": 15,
   "metadata": {},
   "outputs": [
    {
     "data": {
      "text/plain": [
       "{'no': '12931',\n",
       " 'title': '사이버대학 성적·졸업증명서도 모바일 전자증명서로 발급한다',\n",
       " 'writer': '',\n",
       " 'date': '공공지능정책과',\n",
       " 'pv': '2022.02.15.',\n",
       " 'link': 'https://www.mois.go.kr/frt/bbs/type010/commonSelectBoardArticle.do;jsessionid=iUVzcJQhyZ+3uk1aft+dJooP.node10?bbsId=BBSMSTR_000000000008&nttId=90455'}"
      ]
     },
     "execution_count": 15,
     "metadata": {},
     "output_type": "execute_result"
    }
   ],
   "source": [
    "element = elements[0]\n",
    "\n",
    "data = {\n",
    "    \"no\" : element.select(\"td\")[0].text.strip(),\n",
    "    \"title\" : element.select(\"td\")[1].text.strip(),\n",
    "    \"writer\" : element.select(\"td\")[2].text.strip(),\n",
    "    \"date\" : element.select(\"td\")[3].text.strip(),\n",
    "    \"pv\" : element.select(\"td\")[4].text.strip(),\n",
    "    \"link\" : \"https://www.mois.go.kr\" + element.select(\"td\")[1].select_one(\"a\").get(\"href\"),\n",
    "}\n",
    "data"
   ]
  },
  {
   "cell_type": "code",
   "execution_count": 17,
   "metadata": {},
   "outputs": [
    {
     "data": {
      "text/html": [
       "<div>\n",
       "<style scoped>\n",
       "    .dataframe tbody tr th:only-of-type {\n",
       "        vertical-align: middle;\n",
       "    }\n",
       "\n",
       "    .dataframe tbody tr th {\n",
       "        vertical-align: top;\n",
       "    }\n",
       "\n",
       "    .dataframe thead th {\n",
       "        text-align: right;\n",
       "    }\n",
       "</style>\n",
       "<table border=\"1\" class=\"dataframe\">\n",
       "  <thead>\n",
       "    <tr style=\"text-align: right;\">\n",
       "      <th></th>\n",
       "      <th>no</th>\n",
       "      <th>title</th>\n",
       "      <th>writer</th>\n",
       "      <th>date</th>\n",
       "      <th>pv</th>\n",
       "      <th>link</th>\n",
       "    </tr>\n",
       "  </thead>\n",
       "  <tbody>\n",
       "    <tr>\n",
       "      <th>5</th>\n",
       "      <td>12926</td>\n",
       "      <td>행정안전부 소통협력공간, 인구감소지역 최초 선정</td>\n",
       "      <td></td>\n",
       "      <td>지역사회혁신정책과</td>\n",
       "      <td>2022.02.13.</td>\n",
       "      <td>https://www.mois.go.kr/frt/bbs/type010/commonS...</td>\n",
       "    </tr>\n",
       "    <tr>\n",
       "      <th>6</th>\n",
       "      <td>12925</td>\n",
       "      <td>국민이 제안하고 풀어가는 민생규제 혁신과제 공모전 개최</td>\n",
       "      <td></td>\n",
       "      <td>지방규제혁신과</td>\n",
       "      <td>2022.02.13.</td>\n",
       "      <td>https://www.mois.go.kr/frt/bbs/type010/commonS...</td>\n",
       "    </tr>\n",
       "    <tr>\n",
       "      <th>7</th>\n",
       "      <td>12924</td>\n",
       "      <td>이제 스마트폰으로 주민등록증 확인 가능해진다... 4월 시범실시 예정</td>\n",
       "      <td></td>\n",
       "      <td>주민과</td>\n",
       "      <td>2022.02.10.</td>\n",
       "      <td>https://www.mois.go.kr/frt/bbs/type010/commonS...</td>\n",
       "    </tr>\n",
       "    <tr>\n",
       "      <th>8</th>\n",
       "      <td>12923</td>\n",
       "      <td>스마트워크센터 밀집현상 해소를 위해 서울역 2호점 추가 개소</td>\n",
       "      <td></td>\n",
       "      <td>스마트행정기반과</td>\n",
       "      <td>2022.02.10.</td>\n",
       "      <td>https://www.mois.go.kr/frt/bbs/type010/commonS...</td>\n",
       "    </tr>\n",
       "    <tr>\n",
       "      <th>9</th>\n",
       "      <td>12922</td>\n",
       "      <td>2022년 지방규제, 지역활력 제고에 초점 맞추기로</td>\n",
       "      <td></td>\n",
       "      <td>지방규제혁신과</td>\n",
       "      <td>2022.02.10.</td>\n",
       "      <td>https://www.mois.go.kr/frt/bbs/type010/commonS...</td>\n",
       "    </tr>\n",
       "  </tbody>\n",
       "</table>\n",
       "</div>"
      ],
      "text/plain": [
       "      no                                   title writer       date  \\\n",
       "5  12926              행정안전부 소통협력공간, 인구감소지역 최초 선정         지역사회혁신정책과   \n",
       "6  12925          국민이 제안하고 풀어가는 민생규제 혁신과제 공모전 개최           지방규제혁신과   \n",
       "7  12924  이제 스마트폰으로 주민등록증 확인 가능해진다... 4월 시범실시 예정               주민과   \n",
       "8  12923       스마트워크센터 밀집현상 해소를 위해 서울역 2호점 추가 개소          스마트행정기반과   \n",
       "9  12922            2022년 지방규제, 지역활력 제고에 초점 맞추기로           지방규제혁신과   \n",
       "\n",
       "            pv                                               link  \n",
       "5  2022.02.13.  https://www.mois.go.kr/frt/bbs/type010/commonS...  \n",
       "6  2022.02.13.  https://www.mois.go.kr/frt/bbs/type010/commonS...  \n",
       "7  2022.02.10.  https://www.mois.go.kr/frt/bbs/type010/commonS...  \n",
       "8  2022.02.10.  https://www.mois.go.kr/frt/bbs/type010/commonS...  \n",
       "9  2022.02.10.  https://www.mois.go.kr/frt/bbs/type010/commonS...  "
      ]
     },
     "execution_count": 17,
     "metadata": {},
     "output_type": "execute_result"
    }
   ],
   "source": [
    "# 데이터 프레임으로 만들기\n",
    "# [ {row1}, {row2}]\n",
    "datas = []\n",
    "for element in elements:\n",
    "    datas.append({\n",
    "        \"no\" : element.select(\"td\")[0].text.strip(),\n",
    "        \"title\" : element.select(\"td\")[1].text.strip(),\n",
    "        \"writer\" : element.select(\"td\")[2].text.strip(),\n",
    "        \"date\" : element.select(\"td\")[3].text.strip(),\n",
    "        \"pv\" : element.select(\"td\")[4].text.strip(),\n",
    "        \"link\" : \"https://www.mois.go.kr\" + element.select(\"td\")[1].select_one(\"a\").get(\"href\"),\n",
    "    })\n",
    "df = pd.DataFrame(datas)\n",
    "df.tail()"
   ]
  },
  {
   "cell_type": "markdown",
   "metadata": {},
   "source": [
    "### 4. function param : page"
   ]
  },
  {
   "cell_type": "code",
   "execution_count": 18,
   "metadata": {},
   "outputs": [],
   "source": [
    "def mois(page):\n",
    "    url = \"https://www.mois.go.kr/frt/bbs/type010/commonSelectBoardList.do?bbsId=BBSMSTR_000000000008\"\n",
    "\n",
    "    params = {\n",
    "        \"nttId\": \"0\",\n",
    "        \"bbsTyCode\": \"BBST03\",\n",
    "        \"bbsAttrbCode\": \"BBSA03\",\n",
    "        \"authFlag\": \"Y\",\n",
    "        \"pageIndex\": page,\n",
    "        \"cal_url\":\" /sym/cal/EgovNormalCalPopup.do\",\n",
    "        \"searchCnd\": \"0\",\n",
    "        \"searchWrd\": \"\",\n",
    "    }\n",
    "\n",
    "    response = requests.post(url, params)\n",
    "    dom = BeautifulSoup(response.text, 'html.parser')\n",
    "    elements = dom.select(\"#print_area > div.table_wrap.type_01 > form > table > tbody > tr\")\n",
    "\n",
    "    datas = []\n",
    "    for element in elements:\n",
    "        datas.append({\n",
    "            \"no\" : element.select(\"td\")[0].text.strip(),\n",
    "            \"title\" : element.select(\"td\")[1].text.strip(),\n",
    "            \"writer\" : element.select(\"td\")[2].text.strip(),\n",
    "            \"date\" : element.select(\"td\")[3].text.strip(),\n",
    "            \"pv\" : element.select(\"td\")[4].text.strip(),\n",
    "            \"link\" : \"https://www.mois.go.kr\" + element.select(\"td\")[1].select_one(\"a\").get(\"href\"),\n",
    "        })\n",
    "    df = pd.DataFrame(datas)\n",
    "    return df"
   ]
  },
  {
   "cell_type": "code",
   "execution_count": 19,
   "metadata": {},
   "outputs": [
    {
     "data": {
      "text/html": [
       "<div>\n",
       "<style scoped>\n",
       "    .dataframe tbody tr th:only-of-type {\n",
       "        vertical-align: middle;\n",
       "    }\n",
       "\n",
       "    .dataframe tbody tr th {\n",
       "        vertical-align: top;\n",
       "    }\n",
       "\n",
       "    .dataframe thead th {\n",
       "        text-align: right;\n",
       "    }\n",
       "</style>\n",
       "<table border=\"1\" class=\"dataframe\">\n",
       "  <thead>\n",
       "    <tr style=\"text-align: right;\">\n",
       "      <th></th>\n",
       "      <th>no</th>\n",
       "      <th>title</th>\n",
       "      <th>writer</th>\n",
       "      <th>date</th>\n",
       "      <th>pv</th>\n",
       "      <th>link</th>\n",
       "    </tr>\n",
       "  </thead>\n",
       "  <tbody>\n",
       "    <tr>\n",
       "      <th>0</th>\n",
       "      <td>12921</td>\n",
       "      <td>데이터 기반 과학적 행정으로 디지털 대전환 시대 정부역량 강화</td>\n",
       "      <td></td>\n",
       "      <td>공공데이터정책과</td>\n",
       "      <td>2022.02.10.</td>\n",
       "      <td>https://www.mois.go.kr/frt/bbs/type010/commonS...</td>\n",
       "    </tr>\n",
       "    <tr>\n",
       "      <th>1</th>\n",
       "      <td>12920</td>\n",
       "      <td>2022년 지역균형 뉴딜 추진전략 논의</td>\n",
       "      <td></td>\n",
       "      <td>지역균형뉴딜추진단 부단장 지역균형뉴딜팀</td>\n",
       "      <td>2022.02.09.</td>\n",
       "      <td>https://www.mois.go.kr/frt/bbs/type010/commonS...</td>\n",
       "    </tr>\n",
       "    <tr>\n",
       "      <th>2</th>\n",
       "      <td>12919</td>\n",
       "      <td>정부, 2월 가뭄 예·경보 및 국가가뭄통계 발표</td>\n",
       "      <td></td>\n",
       "      <td>기후재난대응과</td>\n",
       "      <td>2022.02.09.</td>\n",
       "      <td>https://www.mois.go.kr/frt/bbs/type010/commonS...</td>\n",
       "    </tr>\n",
       "    <tr>\n",
       "      <th>3</th>\n",
       "      <td>12918</td>\n",
       "      <td>디지털로 여는 좋은 세상을 실현할 정보기술(IT) 기업을 찾습니다</td>\n",
       "      <td></td>\n",
       "      <td>디지털서비스정책과</td>\n",
       "      <td>2022.02.09.</td>\n",
       "      <td>https://www.mois.go.kr/frt/bbs/type010/commonS...</td>\n",
       "    </tr>\n",
       "    <tr>\n",
       "      <th>4</th>\n",
       "      <td>12917</td>\n",
       "      <td>지자체와 청년을 잇는 지역주도형 청년 일자리 2만 6천개 창출</td>\n",
       "      <td></td>\n",
       "      <td>지역일자리경제과</td>\n",
       "      <td>2022.02.09.</td>\n",
       "      <td>https://www.mois.go.kr/frt/bbs/type010/commonS...</td>\n",
       "    </tr>\n",
       "    <tr>\n",
       "      <th>5</th>\n",
       "      <td>12916</td>\n",
       "      <td>연1조 지방소멸대응기금, 인구감소지역에 집중 투자한다</td>\n",
       "      <td></td>\n",
       "      <td>지역균형발전과</td>\n",
       "      <td>2022.02.08.</td>\n",
       "      <td>https://www.mois.go.kr/frt/bbs/type010/commonS...</td>\n",
       "    </tr>\n",
       "    <tr>\n",
       "      <th>6</th>\n",
       "      <td>12915</td>\n",
       "      <td>주민이 직접 조례 제·개정 청구, 온라인으로 가능합니다</td>\n",
       "      <td></td>\n",
       "      <td>선거의회자치법규과</td>\n",
       "      <td>2022.02.08.</td>\n",
       "      <td>https://www.mois.go.kr/frt/bbs/type010/commonS...</td>\n",
       "    </tr>\n",
       "    <tr>\n",
       "      <th>7</th>\n",
       "      <td>12914</td>\n",
       "      <td>자치분권 2.0시대, 지방의회 역량강화를 위한 지방의정연수센터 개소</td>\n",
       "      <td></td>\n",
       "      <td>지방의정연수센터</td>\n",
       "      <td>2022.02.08.</td>\n",
       "      <td>https://www.mois.go.kr/frt/bbs/type010/commonS...</td>\n",
       "    </tr>\n",
       "    <tr>\n",
       "      <th>8</th>\n",
       "      <td>12913</td>\n",
       "      <td>업무 처리 자동화(RPA)를 통한 디지털 전환 가속화</td>\n",
       "      <td></td>\n",
       "      <td>협업정책과</td>\n",
       "      <td>2022.02.08.</td>\n",
       "      <td>https://www.mois.go.kr/frt/bbs/type010/commonS...</td>\n",
       "    </tr>\n",
       "    <tr>\n",
       "      <th>9</th>\n",
       "      <td>12912</td>\n",
       "      <td>2021년도 지방자치단체 혁신평가 결과 발표</td>\n",
       "      <td></td>\n",
       "      <td>지역사회혁신정책과</td>\n",
       "      <td>2022.02.08.</td>\n",
       "      <td>https://www.mois.go.kr/frt/bbs/type010/commonS...</td>\n",
       "    </tr>\n",
       "  </tbody>\n",
       "</table>\n",
       "</div>"
      ],
      "text/plain": [
       "      no                                  title writer                   date  \\\n",
       "0  12921     데이터 기반 과학적 행정으로 디지털 대전환 시대 정부역량 강화                      공공데이터정책과   \n",
       "1  12920                  2022년 지역균형 뉴딜 추진전략 논의         지역균형뉴딜추진단 부단장 지역균형뉴딜팀   \n",
       "2  12919             정부, 2월 가뭄 예·경보 및 국가가뭄통계 발표                       기후재난대응과   \n",
       "3  12918   디지털로 여는 좋은 세상을 실현할 정보기술(IT) 기업을 찾습니다                     디지털서비스정책과   \n",
       "4  12917     지자체와 청년을 잇는 지역주도형 청년 일자리 2만 6천개 창출                      지역일자리경제과   \n",
       "5  12916          연1조 지방소멸대응기금, 인구감소지역에 집중 투자한다                       지역균형발전과   \n",
       "6  12915         주민이 직접 조례 제·개정 청구, 온라인으로 가능합니다                     선거의회자치법규과   \n",
       "7  12914  자치분권 2.0시대, 지방의회 역량강화를 위한 지방의정연수센터 개소                      지방의정연수센터   \n",
       "8  12913          업무 처리 자동화(RPA)를 통한 디지털 전환 가속화                         협업정책과   \n",
       "9  12912               2021년도 지방자치단체 혁신평가 결과 발표                     지역사회혁신정책과   \n",
       "\n",
       "            pv                                               link  \n",
       "0  2022.02.10.  https://www.mois.go.kr/frt/bbs/type010/commonS...  \n",
       "1  2022.02.09.  https://www.mois.go.kr/frt/bbs/type010/commonS...  \n",
       "2  2022.02.09.  https://www.mois.go.kr/frt/bbs/type010/commonS...  \n",
       "3  2022.02.09.  https://www.mois.go.kr/frt/bbs/type010/commonS...  \n",
       "4  2022.02.09.  https://www.mois.go.kr/frt/bbs/type010/commonS...  \n",
       "5  2022.02.08.  https://www.mois.go.kr/frt/bbs/type010/commonS...  \n",
       "6  2022.02.08.  https://www.mois.go.kr/frt/bbs/type010/commonS...  \n",
       "7  2022.02.08.  https://www.mois.go.kr/frt/bbs/type010/commonS...  \n",
       "8  2022.02.08.  https://www.mois.go.kr/frt/bbs/type010/commonS...  \n",
       "9  2022.02.08.  https://www.mois.go.kr/frt/bbs/type010/commonS...  "
      ]
     },
     "execution_count": 19,
     "metadata": {},
     "output_type": "execute_result"
    }
   ],
   "source": [
    "mois(4)"
   ]
  },
  {
   "cell_type": "markdown",
   "metadata": {},
   "source": [
    "### 5. 여러 페이지 데이터 수집"
   ]
  },
  {
   "cell_type": "markdown",
   "metadata": {},
   "source": [
    "-  데이터프레임을 하나로 합치기\n",
    "- pd.concat"
   ]
  },
  {
   "cell_type": "code",
   "execution_count": 20,
   "metadata": {},
   "outputs": [
    {
     "name": "stdout",
     "output_type": "stream",
     "text": [
      "1 2 3 "
     ]
    }
   ],
   "source": [
    "dfs = []\n",
    "for page in range(1,4):\n",
    "    print(page, end = \" \")\n",
    "    dfs.append(mois(page))\n"
   ]
  },
  {
   "cell_type": "code",
   "execution_count": 25,
   "metadata": {},
   "outputs": [
    {
     "data": {
      "text/html": [
       "<div>\n",
       "<style scoped>\n",
       "    .dataframe tbody tr th:only-of-type {\n",
       "        vertical-align: middle;\n",
       "    }\n",
       "\n",
       "    .dataframe tbody tr th {\n",
       "        vertical-align: top;\n",
       "    }\n",
       "\n",
       "    .dataframe thead th {\n",
       "        text-align: right;\n",
       "    }\n",
       "</style>\n",
       "<table border=\"1\" class=\"dataframe\">\n",
       "  <thead>\n",
       "    <tr style=\"text-align: right;\">\n",
       "      <th></th>\n",
       "      <th>no</th>\n",
       "      <th>title</th>\n",
       "      <th>writer</th>\n",
       "      <th>date</th>\n",
       "      <th>pv</th>\n",
       "      <th>link</th>\n",
       "    </tr>\n",
       "  </thead>\n",
       "  <tbody>\n",
       "    <tr>\n",
       "      <th>25</th>\n",
       "      <td>12926</td>\n",
       "      <td>행정안전부 소통협력공간, 인구감소지역 최초 선정</td>\n",
       "      <td></td>\n",
       "      <td>지역사회혁신정책과</td>\n",
       "      <td>2022.02.13.</td>\n",
       "      <td>https://www.mois.go.kr/frt/bbs/type010/commonS...</td>\n",
       "    </tr>\n",
       "    <tr>\n",
       "      <th>26</th>\n",
       "      <td>12925</td>\n",
       "      <td>국민이 제안하고 풀어가는 민생규제 혁신과제 공모전 개최</td>\n",
       "      <td></td>\n",
       "      <td>지방규제혁신과</td>\n",
       "      <td>2022.02.13.</td>\n",
       "      <td>https://www.mois.go.kr/frt/bbs/type010/commonS...</td>\n",
       "    </tr>\n",
       "    <tr>\n",
       "      <th>27</th>\n",
       "      <td>12924</td>\n",
       "      <td>이제 스마트폰으로 주민등록증 확인 가능해진다... 4월 시범실시 예정</td>\n",
       "      <td></td>\n",
       "      <td>주민과</td>\n",
       "      <td>2022.02.10.</td>\n",
       "      <td>https://www.mois.go.kr/frt/bbs/type010/commonS...</td>\n",
       "    </tr>\n",
       "    <tr>\n",
       "      <th>28</th>\n",
       "      <td>12923</td>\n",
       "      <td>스마트워크센터 밀집현상 해소를 위해 서울역 2호점 추가 개소</td>\n",
       "      <td></td>\n",
       "      <td>스마트행정기반과</td>\n",
       "      <td>2022.02.10.</td>\n",
       "      <td>https://www.mois.go.kr/frt/bbs/type010/commonS...</td>\n",
       "    </tr>\n",
       "    <tr>\n",
       "      <th>29</th>\n",
       "      <td>12922</td>\n",
       "      <td>2022년 지방규제, 지역활력 제고에 초점 맞추기로</td>\n",
       "      <td></td>\n",
       "      <td>지방규제혁신과</td>\n",
       "      <td>2022.02.10.</td>\n",
       "      <td>https://www.mois.go.kr/frt/bbs/type010/commonS...</td>\n",
       "    </tr>\n",
       "  </tbody>\n",
       "</table>\n",
       "</div>"
      ],
      "text/plain": [
       "       no                                   title writer       date  \\\n",
       "25  12926              행정안전부 소통협력공간, 인구감소지역 최초 선정         지역사회혁신정책과   \n",
       "26  12925          국민이 제안하고 풀어가는 민생규제 혁신과제 공모전 개최           지방규제혁신과   \n",
       "27  12924  이제 스마트폰으로 주민등록증 확인 가능해진다... 4월 시범실시 예정               주민과   \n",
       "28  12923       스마트워크센터 밀집현상 해소를 위해 서울역 2호점 추가 개소          스마트행정기반과   \n",
       "29  12922            2022년 지방규제, 지역활력 제고에 초점 맞추기로           지방규제혁신과   \n",
       "\n",
       "             pv                                               link  \n",
       "25  2022.02.13.  https://www.mois.go.kr/frt/bbs/type010/commonS...  \n",
       "26  2022.02.13.  https://www.mois.go.kr/frt/bbs/type010/commonS...  \n",
       "27  2022.02.10.  https://www.mois.go.kr/frt/bbs/type010/commonS...  \n",
       "28  2022.02.10.  https://www.mois.go.kr/frt/bbs/type010/commonS...  \n",
       "29  2022.02.10.  https://www.mois.go.kr/frt/bbs/type010/commonS...  "
      ]
     },
     "execution_count": 25,
     "metadata": {},
     "output_type": "execute_result"
    }
   ],
   "source": [
    "result_df = pd.concat(dfs, ignore_index=True)\n",
    "result_df.tail(5)"
   ]
  },
  {
   "cell_type": "code",
   "execution_count": null,
   "metadata": {},
   "outputs": [],
   "source": []
  }
 ],
 "metadata": {
  "interpreter": {
   "hash": "5c0372ed38b372118c24adb00d45654d76c8d10261533c5724e3f5fc1d75489a"
  },
  "kernelspec": {
   "display_name": "Python 3.8.6 64-bit",
   "language": "python",
   "name": "python3"
  },
  "language_info": {
   "codemirror_mode": {
    "name": "ipython",
    "version": 3
   },
   "file_extension": ".py",
   "mimetype": "text/x-python",
   "name": "python",
   "nbconvert_exporter": "python",
   "pygments_lexer": "ipython3",
   "version": "3.8.6"
  },
  "orig_nbformat": 4
 },
 "nbformat": 4,
 "nbformat_minor": 2
}
