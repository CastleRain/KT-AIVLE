{
 "cells": [
  {
   "cell_type": "markdown",
   "metadata": {},
   "source": [
    "WEB  \n",
    "- client-server : url\n",
    "- 동적페이지 : json  \n",
    "    - 웹페이지 분석 : url\n",
    "    - request(url) > response(data) : data(json(str))\n",
    "    - data(json(str)) > parsing(response.json()) > list, dict <br><br>\n",
    "\n",
    "- 정적페이지 : html\n",
    "    - 웹페이지 분석 : url\n",
    "    - request(url) > response(data) : data(html(str))\n",
    "    - data(html(str)) > parsing(bs(css-selector)) > text"
   ]
  },
  {
   "cell_type": "markdown",
   "metadata": {},
   "source": [
    "### HTML  \n",
    "- 웹 페이지에서 레이아웃, 문자열, 속성값등등을 나타내는 문법이다. <br><br>\n",
    "\n",
    "#### HTML의 구성요소\n",
    "- Document : 한 페이지 전체의 html code\n",
    "- Element : 하나의 레이아웃을 나타내는 단위\n",
    "- Tag : 레이아웃의 종류를 나타내는 단위 : 주로 시작태그와 끝 태그가 있다.\n",
    "- Attribute : 속성값 : 시작태그에 포함 :  태그에서 특정 기능을 하는 값\n",
    "- Text : 시작태그와 끝내그 사이에 있는 문자열"
   ]
  },
  {
   "cell_type": "code",
   "execution_count": 1,
   "metadata": {},
   "outputs": [],
   "source": [
    "# html code에서 text를 가져오기위해 element를 선택해야 한다.\n",
    "# 엘리먼트를 선택하는 문법이 css-seletor\n",
    "# css-select를 사용할 수 있게 해주는 패키지가 bs"
   ]
  },
  {
   "cell_type": "code",
   "execution_count": 2,
   "metadata": {},
   "outputs": [
    {
     "data": {
      "text/html": [
       "<div>\n",
       "    <button class = \"btn no1\" value =\"1\">click 1</button>\n",
       "    <button class = \"btn no1\" value =\"1\">click 1</button>\n",
       "    <a href=\"http://google.com\" target = \"_blink\">click!!!</a>\n",
       "</div>\n"
      ],
      "text/plain": [
       "<IPython.core.display.HTML object>"
      ]
     },
     "metadata": {},
     "output_type": "display_data"
    }
   ],
   "source": [
    "%%html\n",
    "<div>\n",
    "    <button class = \"btn no1\" value =\"1\">click 1</button>\n",
    "    <button class = \"btn no1\" value =\"1\">click 1</button>\n",
    "    <a href=\"http://google.com\" target = \"_blink\">click!!!</a>\n",
    "</div>"
   ]
  },
  {
   "cell_type": "markdown",
   "metadata": {},
   "source": [
    "### P : 한 줄의 문자열 출력"
   ]
  },
  {
   "cell_type": "code",
   "execution_count": 3,
   "metadata": {},
   "outputs": [
    {
     "data": {
      "text/html": [
       "<p>kt 1</p>\n",
       "<p>kt 2</p>\n"
      ],
      "text/plain": [
       "<IPython.core.display.HTML object>"
      ]
     },
     "metadata": {},
     "output_type": "display_data"
    }
   ],
   "source": [
    "%%html\n",
    "<p>kt 1</p>\n",
    "<p>kt 2</p>"
   ]
  },
  {
   "cell_type": "markdown",
   "metadata": {},
   "source": [
    "### span : 한 블럭의 문자열 출력"
   ]
  },
  {
   "cell_type": "code",
   "execution_count": 4,
   "metadata": {},
   "outputs": [
    {
     "data": {
      "text/html": [
       "<span>kt 1</span>\n",
       "<span>kt 2</span>\n"
      ],
      "text/plain": [
       "<IPython.core.display.HTML object>"
      ]
     },
     "metadata": {},
     "output_type": "display_data"
    }
   ],
   "source": [
    "%%html\n",
    "<span>kt 1</span>\n",
    "<span>kt 2</span>"
   ]
  },
  {
   "cell_type": "markdown",
   "metadata": {},
   "source": [
    "### div : 레이아웃(영역)을 출력"
   ]
  },
  {
   "cell_type": "code",
   "execution_count": 5,
   "metadata": {},
   "outputs": [
    {
     "data": {
      "text/html": [
       "<div>\n",
       "    <p>kt 1</p>\n",
       "    <p>kt 2</p>\n",
       "</div>\n",
       "<div>\n",
       "    <span>kt 3</span>\n",
       "</div>\n"
      ],
      "text/plain": [
       "<IPython.core.display.HTML object>"
      ]
     },
     "metadata": {},
     "output_type": "display_data"
    }
   ],
   "source": [
    "%%html\n",
    "<div>\n",
    "    <p>kt 1</p>\n",
    "    <p>kt 2</p>\n",
    "</div>\n",
    "<div>\n",
    "    <span>kt 3</span>\n",
    "</div>"
   ]
  },
  {
   "cell_type": "markdown",
   "metadata": {},
   "source": [
    "### table : 행과 열로 이루어진 데이터를 출력"
   ]
  },
  {
   "cell_type": "code",
   "execution_count": 8,
   "metadata": {},
   "outputs": [
    {
     "data": {
      "text/html": [
       "<table>\n",
       "    <caption>table tag</caption>\n",
       "    <thead>\n",
       "        <tr>\n",
       "            <th>column 1</th>\n",
       "            <th>column 2</th>\n",
       "        </tr>\n",
       "    </thead>\n",
       "    <tbody>\n",
       "        <tr>\n",
       "            <th>kt 1</th>\n",
       "            <th>kt 2</th>\n",
       "        </tr>\n",
       "    </tbody>\n",
       "</table>\n"
      ],
      "text/plain": [
       "<IPython.core.display.HTML object>"
      ]
     },
     "metadata": {},
     "output_type": "display_data"
    }
   ],
   "source": [
    "%%html\n",
    "<table>\n",
    "    <caption>table tag</caption>\n",
    "    <thead>\n",
    "        <tr>\n",
    "            <th>column 1</th>\n",
    "            <th>column 2</th>\n",
    "        </tr>\n",
    "    </thead>\n",
    "    <tbody>\n",
    "        <tr>\n",
    "            <th>kt 1</th>\n",
    "            <th>kt 2</th>\n",
    "        </tr>\n",
    "    </tbody>\n",
    "</table>"
   ]
  },
  {
   "cell_type": "markdown",
   "metadata": {},
   "source": [
    "### ul, li : 리스트 문자열 출력"
   ]
  },
  {
   "cell_type": "code",
   "execution_count": 9,
   "metadata": {},
   "outputs": [
    {
     "data": {
      "text/html": [
       "<ul>\n",
       "    <li>kt 1</li>\n",
       "    <li>kt 2</li>\n",
       "</ul>\n"
      ],
      "text/plain": [
       "<IPython.core.display.HTML object>"
      ]
     },
     "metadata": {},
     "output_type": "display_data"
    }
   ],
   "source": [
    "%%html\n",
    "<ul>\n",
    "    <li>kt 1</li>\n",
    "    <li>kt 2</li>\n",
    "</ul>"
   ]
  },
  {
   "cell_type": "markdown",
   "metadata": {},
   "source": [
    "### a : 링크 출력\n",
    "- target=\"_black\" : 새로운 탭에서 생성"
   ]
  },
  {
   "cell_type": "code",
   "execution_count": 11,
   "metadata": {},
   "outputs": [
    {
     "data": {
      "text/html": [
       "<a href = \"https://google.com\", target = \"_blank\">move google</a>\n"
      ],
      "text/plain": [
       "<IPython.core.display.HTML object>"
      ]
     },
     "metadata": {},
     "output_type": "display_data"
    }
   ],
   "source": [
    "%%html\n",
    "<a href = \"https://google.com\", target = \"_blank\">move google</a>"
   ]
  },
  {
   "cell_type": "markdown",
   "metadata": {},
   "source": [
    "### img : 이미지 출력"
   ]
  },
  {
   "cell_type": "code",
   "execution_count": 12,
   "metadata": {},
   "outputs": [
    {
     "data": {
      "text/html": [
       "<img src = \"https://cfm.kt.com/images/v2/layout/gnb-ktlogo.png\">\n"
      ],
      "text/plain": [
       "<IPython.core.display.HTML object>"
      ]
     },
     "metadata": {},
     "output_type": "display_data"
    }
   ],
   "source": [
    "%%html\n",
    "<img src = \"https://cfm.kt.com/images/v2/layout/gnb-ktlogo.png\">"
   ]
  },
  {
   "cell_type": "markdown",
   "metadata": {},
   "source": [
    "## css selector\n",
    "- html element를 선택하기 위한 문법\n"
   ]
  },
  {
   "cell_type": "markdown",
   "metadata": {},
   "source": [
    "### element를 선택하기 위한 방법들\n",
    "- tag\n",
    "- id\n",
    "- class\n",
    "- attr"
   ]
  },
  {
   "cell_type": "markdown",
   "metadata": {},
   "source": [
    "## tag\n",
    "- css-selector : span : kt3 선택"
   ]
  },
  {
   "cell_type": "code",
   "execution_count": 14,
   "metadata": {},
   "outputs": [
    {
     "data": {
      "text/html": [
       "<div>kt 1</div>\n",
       "<p>kt 2</p>\n",
       "<span>kt 3</span>\n"
      ],
      "text/plain": [
       "<IPython.core.display.HTML object>"
      ]
     },
     "metadata": {},
     "output_type": "display_data"
    }
   ],
   "source": [
    "%%html\n",
    "<div>kt 1</div>\n",
    "<p>kt 2</p>\n",
    "<span>kt 3</span>"
   ]
  },
  {
   "cell_type": "markdown",
   "metadata": {},
   "source": [
    "## id : 한 페이지에 같은 id 값을 사용하지 않는다.\n",
    "- css-selector : #d2 : kt2 선택"
   ]
  },
  {
   "cell_type": "code",
   "execution_count": 15,
   "metadata": {},
   "outputs": [
    {
     "data": {
      "text/html": [
       "<p id = \"d1\">kt 1</p>\n",
       "<p id = \"d2\">kt 2</p>\n",
       "<p id = \"d3\">kt 3</p>\n"
      ],
      "text/plain": [
       "<IPython.core.display.HTML object>"
      ]
     },
     "metadata": {},
     "output_type": "display_data"
    }
   ],
   "source": [
    "%%html\n",
    "<p id = \"d1\">kt 1</p>\n",
    "<p id = \"d2\">kt 2</p>\n",
    "<p id = \"d3\">kt 3</p>"
   ]
  },
  {
   "cell_type": "markdown",
   "metadata": {},
   "source": [
    "## class\n",
    "- 하나의 태그에 여러개의 값을 사용할 수 있다.\n",
    "- 한 페이지에서 동일한 값을 여러번 사용할 수 있다.\n",
    "- css-selector : .txt : kt1, kt2, kt3 전체 선택이 된다."
   ]
  },
  {
   "cell_type": "code",
   "execution_count": 16,
   "metadata": {},
   "outputs": [
    {
     "data": {
      "text/html": [
       "<p class = \"txt d1\">kt 1</p>\n",
       "<p class = \"txt d2\">kt 2</p>\n",
       "<p class = \"txt d3\">kt 3</p>\n"
      ],
      "text/plain": [
       "<IPython.core.display.HTML object>"
      ]
     },
     "metadata": {},
     "output_type": "display_data"
    }
   ],
   "source": [
    "%%html\n",
    "<p class = \"txt d1\">kt 1</p>\n",
    "<p class = \"txt d2\">kt 2</p>\n",
    "<p class = \"txt d3\">kt 3</p>"
   ]
  },
  {
   "cell_type": "markdown",
   "metadata": {},
   "source": [
    "## attr\n",
    "- css-selector : [value=\"no2\"] : kt 2가 선택된다."
   ]
  },
  {
   "cell_type": "code",
   "execution_count": 17,
   "metadata": {},
   "outputs": [
    {
     "data": {
      "text/html": [
       "<p value = \"no1\">kt 1</p>\n",
       "<p value = \"no2\">kt 2</p>\n",
       "<p value = \"no3\">kt 3</p>\n"
      ],
      "text/plain": [
       "<IPython.core.display.HTML object>"
      ]
     },
     "metadata": {},
     "output_type": "display_data"
    }
   ],
   "source": [
    "%%html\n",
    "<p value = \"no1\">kt 1</p>\n",
    "<p value = \"no2\">kt 2</p>\n",
    "<p value = \"no3\">kt 3</p>"
   ]
  },
  {
   "cell_type": "markdown",
   "metadata": {},
   "source": [
    "## 계층적으로 엘리먼트 선택\n",
    "- css-selector : p : kt1, kt 2\n",
    "\n",
    "### 한단계 하위 엘리먼트 선택\n",
    "- css-selector : .wrap > p = kt1\n",
    "- css-selector : .wrap > div > p = kt2\n",
    "\n",
    "### 공백 : 하위 엘리먼트 모두 선택\n",
    "- css-selector : .wrap p = kt 1, kt 2\n",
    "\n",
    "### span 태그이면서 no1 클래스를 가진 엘리먼트 선택\n",
    "- css-selector : span.no1 : kt3"
   ]
  },
  {
   "cell_type": "code",
   "execution_count": 18,
   "metadata": {},
   "outputs": [
    {
     "data": {
      "text/html": [
       "<div class=\"wrap\">\n",
       "    <p class = \"no1\">kt 1</p>\n",
       "    <div>\n",
       "        <p class = \"no1\">kt 2</p>\n",
       "        <span class = \"no1\">kt 3</span>\n",
       "    </div>\n",
       "</div>\n"
      ],
      "text/plain": [
       "<IPython.core.display.HTML object>"
      ]
     },
     "metadata": {},
     "output_type": "display_data"
    }
   ],
   "source": [
    "%%html\n",
    "<div class=\"wrap\">\n",
    "    <p class = \"no1\">kt 1</p>\n",
    "    <div>\n",
    "        <p class = \"no1\">kt 2</p>\n",
    "        <span class = \"no1\">kt 3</span>\n",
    "    </div>\n",
    "</div>\n"
   ]
  },
  {
   "cell_type": "markdown",
   "metadata": {},
   "source": [
    "## n번째 엘리먼트 선택 -> nth-child(n)\n",
    "- css-selector : .wrap > p:nth-child(2) : kt 1\n",
    "- 먼저 nth-child(2)에서 2번째를 선택하고 만약 이값이 p이면 불러온다. 만약 .wrap > p:nth-child(1)이면 첫번째 값이 span이므로 아무것도 안들고온다.\n",
    "- .wrap > p:nth-child(2), .wrap > p:nth-child(3) : kt 2 kt 3을 가져온다. (,의 힘)"
   ]
  },
  {
   "cell_type": "code",
   "execution_count": null,
   "metadata": {},
   "outputs": [],
   "source": [
    "%%html\n",
    "<div class=\"wrap\">\n",
    "    <span>kt 0</span>\n",
    "    <p>kt 1</p>\n",
    "    <p>kt 2</p>\n",
    "    <p>kt 3</p>\n",
    "</div>"
   ]
  }
 ],
 "metadata": {
  "interpreter": {
   "hash": "5c0372ed38b372118c24adb00d45654d76c8d10261533c5724e3f5fc1d75489a"
  },
  "kernelspec": {
   "display_name": "Python 3 (ipykernel)",
   "language": "python",
   "name": "python3"
  },
  "language_info": {
   "codemirror_mode": {
    "name": "ipython",
    "version": 3
   },
   "file_extension": ".py",
   "mimetype": "text/x-python",
   "name": "python",
   "nbconvert_exporter": "python",
   "pygments_lexer": "ipython3",
   "version": "3.8.8"
  }
 },
 "nbformat": 4,
 "nbformat_minor": 2
}
